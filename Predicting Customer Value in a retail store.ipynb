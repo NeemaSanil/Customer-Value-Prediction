{
 "cells": [
  {
   "cell_type": "markdown",
   "metadata": {},
   "source": [
    "# Predicting the \"Customer Value\" in a retail store as High/Medium/Low"
   ]
  },
  {
   "cell_type": "markdown",
   "metadata": {},
   "source": [
    "## Problem Statement: \n",
    "    \n",
    "    To predict the Customer value for a retail store based on different quantitative\n",
    "and qualitative features provided.\n"
   ]
  },
  {
   "cell_type": "markdown",
   "metadata": {},
   "source": [
    "The customer value is a profitability metric in terms of a value placed by the company on each customer and can be conceived in two dimensions: the customer`s present Value and potential future Value. A major retail store wants to evaluate customer lvalue in terms of high/medium/low based on each customer’s demographics and purchase information/ sales transactions, to take optimal marketing/promotional decisions and implement appropriate action plans ."
   ]
  },
  {
   "cell_type": "markdown",
   "metadata": {},
   "source": [
    "### Import prerequisite libraries"
   ]
  },
  {
   "cell_type": "code",
   "execution_count": 2,
   "metadata": {},
   "outputs": [],
   "source": [
    "import pandas as pd\n",
    "import numpy as np\n",
    "import matplotlib.pyplot as plt\n",
    "import seaborn as sns\n",
    "import warnings\n",
    "warnings.filterwarnings('ignore')\n",
    "from sklearn.model_selection import train_test_split\n",
    "from sklearn import preprocessing\n",
    "from sklearn.preprocessing import StandardScaler\n",
    "from sklearn.linear_model import LogisticRegression\n",
    "from sklearn.tree import DecisionTreeClassifier\n",
    "from sklearn.ensemble import RandomForestClassifier\n",
    "from sklearn import svm\n",
    "from sklearn.neighbors import KNeighborsClassifier"
   ]
  },
  {
   "cell_type": "markdown",
   "metadata": {},
   "source": [
    "### Read the Data"
   ]
  },
  {
   "cell_type": "code",
   "execution_count": 3,
   "metadata": {},
   "outputs": [],
   "source": [
    "train_demo= pd.read_csv('Train_Demographics-1546580051604.csv') #demodraphics data\n",
    "train_tran = pd.read_csv('Train_Transactions-1546579767306.csv') #Transactional data\n",
    "train = pd.read_csv('Train-1546582083062.csv')"
   ]
  },
  {
   "cell_type": "code",
   "execution_count": 4,
   "metadata": {},
   "outputs": [
    {
     "data": {
      "text/html": [
       "<div>\n",
       "<style scoped>\n",
       "    .dataframe tbody tr th:only-of-type {\n",
       "        vertical-align: middle;\n",
       "    }\n",
       "\n",
       "    .dataframe tbody tr th {\n",
       "        vertical-align: top;\n",
       "    }\n",
       "\n",
       "    .dataframe thead th {\n",
       "        text-align: right;\n",
       "    }\n",
       "</style>\n",
       "<table border=\"1\" class=\"dataframe\">\n",
       "  <thead>\n",
       "    <tr style=\"text-align: right;\">\n",
       "      <th></th>\n",
       "      <th>CustomerId</th>\n",
       "      <th>DOB</th>\n",
       "      <th>gender</th>\n",
       "      <th>MaritalStatus</th>\n",
       "      <th>Familysize</th>\n",
       "    </tr>\n",
       "  </thead>\n",
       "  <tbody>\n",
       "    <tr>\n",
       "      <th>0</th>\n",
       "      <td>C21117</td>\n",
       "      <td>1985-06-14</td>\n",
       "      <td>M</td>\n",
       "      <td>Yes</td>\n",
       "      <td>4</td>\n",
       "    </tr>\n",
       "    <tr>\n",
       "      <th>1</th>\n",
       "      <td>C21118</td>\n",
       "      <td>1984-11-21</td>\n",
       "      <td>M</td>\n",
       "      <td>Yes</td>\n",
       "      <td>4</td>\n",
       "    </tr>\n",
       "    <tr>\n",
       "      <th>2</th>\n",
       "      <td>C21119</td>\n",
       "      <td>1999-02-01</td>\n",
       "      <td>M</td>\n",
       "      <td>Yes</td>\n",
       "      <td>2</td>\n",
       "    </tr>\n",
       "    <tr>\n",
       "      <th>3</th>\n",
       "      <td>C21121</td>\n",
       "      <td>1973-06-22</td>\n",
       "      <td>F</td>\n",
       "      <td>Yes</td>\n",
       "      <td>4</td>\n",
       "    </tr>\n",
       "    <tr>\n",
       "      <th>4</th>\n",
       "      <td>C21124</td>\n",
       "      <td>1966-01-02</td>\n",
       "      <td>M</td>\n",
       "      <td>Yes</td>\n",
       "      <td>3</td>\n",
       "    </tr>\n",
       "  </tbody>\n",
       "</table>\n",
       "</div>"
      ],
      "text/plain": [
       "  CustomerId         DOB gender MaritalStatus  Familysize\n",
       "0     C21117  1985-06-14      M           Yes           4\n",
       "1     C21118  1984-11-21      M           Yes           4\n",
       "2     C21119  1999-02-01      M           Yes           2\n",
       "3     C21121  1973-06-22      F           Yes           4\n",
       "4     C21124  1966-01-02      M           Yes           3"
      ]
     },
     "execution_count": 4,
     "metadata": {},
     "output_type": "execute_result"
    }
   ],
   "source": [
    "train_demo.head() #it will display the first five rows(by default)"
   ]
  },
  {
   "cell_type": "code",
   "execution_count": 5,
   "metadata": {},
   "outputs": [
    {
     "data": {
      "text/html": [
       "<div>\n",
       "<style scoped>\n",
       "    .dataframe tbody tr th:only-of-type {\n",
       "        vertical-align: middle;\n",
       "    }\n",
       "\n",
       "    .dataframe tbody tr th {\n",
       "        vertical-align: top;\n",
       "    }\n",
       "\n",
       "    .dataframe thead th {\n",
       "        text-align: right;\n",
       "    }\n",
       "</style>\n",
       "<table border=\"1\" class=\"dataframe\">\n",
       "  <thead>\n",
       "    <tr style=\"text-align: right;\">\n",
       "      <th></th>\n",
       "      <th>BillDate</th>\n",
       "      <th>BillNumber</th>\n",
       "      <th>CustomerId</th>\n",
       "      <th>ProductID</th>\n",
       "      <th>Quantity</th>\n",
       "      <th>UnitPrice</th>\n",
       "    </tr>\n",
       "  </thead>\n",
       "  <tbody>\n",
       "    <tr>\n",
       "      <th>0</th>\n",
       "      <td>2013-01-01 8:26</td>\n",
       "      <td>B12551</td>\n",
       "      <td>C25132</td>\n",
       "      <td>PR9338</td>\n",
       "      <td>6</td>\n",
       "      <td>2.55</td>\n",
       "    </tr>\n",
       "    <tr>\n",
       "      <th>1</th>\n",
       "      <td>2013-01-01 8:26</td>\n",
       "      <td>B12551</td>\n",
       "      <td>C25132</td>\n",
       "      <td>PR8754</td>\n",
       "      <td>6</td>\n",
       "      <td>3.39</td>\n",
       "    </tr>\n",
       "    <tr>\n",
       "      <th>2</th>\n",
       "      <td>2013-01-01 8:26</td>\n",
       "      <td>B12551</td>\n",
       "      <td>C25132</td>\n",
       "      <td>PR8953</td>\n",
       "      <td>8</td>\n",
       "      <td>2.75</td>\n",
       "    </tr>\n",
       "    <tr>\n",
       "      <th>3</th>\n",
       "      <td>2013-01-01 8:26</td>\n",
       "      <td>B12551</td>\n",
       "      <td>C25132</td>\n",
       "      <td>PR8905</td>\n",
       "      <td>6</td>\n",
       "      <td>3.39</td>\n",
       "    </tr>\n",
       "    <tr>\n",
       "      <th>4</th>\n",
       "      <td>2013-01-01 8:26</td>\n",
       "      <td>B12551</td>\n",
       "      <td>C25132</td>\n",
       "      <td>PR8904</td>\n",
       "      <td>6</td>\n",
       "      <td>3.39</td>\n",
       "    </tr>\n",
       "  </tbody>\n",
       "</table>\n",
       "</div>"
      ],
      "text/plain": [
       "          BillDate BillNumber CustomerId ProductID  Quantity  UnitPrice\n",
       "0  2013-01-01 8:26     B12551     C25132    PR9338         6       2.55\n",
       "1  2013-01-01 8:26     B12551     C25132    PR8754         6       3.39\n",
       "2  2013-01-01 8:26     B12551     C25132    PR8953         8       2.75\n",
       "3  2013-01-01 8:26     B12551     C25132    PR8905         6       3.39\n",
       "4  2013-01-01 8:26     B12551     C25132    PR8904         6       3.39"
      ]
     },
     "execution_count": 5,
     "metadata": {},
     "output_type": "execute_result"
    }
   ],
   "source": [
    "train_tran.head() # it will display the last five rows(by default)"
   ]
  },
  {
   "cell_type": "code",
   "execution_count": 6,
   "metadata": {},
   "outputs": [],
   "source": [
    "train_tran['Total Price'] = train_tran['Quantity'] * train_tran['UnitPrice'] #Calculating TotalPrice by using Quantity and Sales"
   ]
  },
  {
   "cell_type": "code",
   "execution_count": 7,
   "metadata": {},
   "outputs": [
    {
     "data": {
      "text/html": [
       "<div>\n",
       "<style scoped>\n",
       "    .dataframe tbody tr th:only-of-type {\n",
       "        vertical-align: middle;\n",
       "    }\n",
       "\n",
       "    .dataframe tbody tr th {\n",
       "        vertical-align: top;\n",
       "    }\n",
       "\n",
       "    .dataframe thead th {\n",
       "        text-align: right;\n",
       "    }\n",
       "</style>\n",
       "<table border=\"1\" class=\"dataframe\">\n",
       "  <thead>\n",
       "    <tr style=\"text-align: right;\">\n",
       "      <th></th>\n",
       "      <th>BillDate</th>\n",
       "      <th>BillNumber</th>\n",
       "      <th>CustomerId</th>\n",
       "      <th>ProductID</th>\n",
       "      <th>Quantity</th>\n",
       "      <th>UnitPrice</th>\n",
       "      <th>Total Price</th>\n",
       "    </tr>\n",
       "  </thead>\n",
       "  <tbody>\n",
       "    <tr>\n",
       "      <th>0</th>\n",
       "      <td>2013-01-01 8:26</td>\n",
       "      <td>B12551</td>\n",
       "      <td>C25132</td>\n",
       "      <td>PR9338</td>\n",
       "      <td>6</td>\n",
       "      <td>2.55</td>\n",
       "      <td>15.30</td>\n",
       "    </tr>\n",
       "    <tr>\n",
       "      <th>1</th>\n",
       "      <td>2013-01-01 8:26</td>\n",
       "      <td>B12551</td>\n",
       "      <td>C25132</td>\n",
       "      <td>PR8754</td>\n",
       "      <td>6</td>\n",
       "      <td>3.39</td>\n",
       "      <td>20.34</td>\n",
       "    </tr>\n",
       "  </tbody>\n",
       "</table>\n",
       "</div>"
      ],
      "text/plain": [
       "          BillDate BillNumber CustomerId ProductID  Quantity  UnitPrice  \\\n",
       "0  2013-01-01 8:26     B12551     C25132    PR9338         6       2.55   \n",
       "1  2013-01-01 8:26     B12551     C25132    PR8754         6       3.39   \n",
       "\n",
       "   Total Price  \n",
       "0        15.30  \n",
       "1        20.34  "
      ]
     },
     "execution_count": 7,
     "metadata": {},
     "output_type": "execute_result"
    }
   ],
   "source": [
    "train_tran.head(2)"
   ]
  },
  {
   "cell_type": "code",
   "execution_count": 8,
   "metadata": {},
   "outputs": [
    {
     "data": {
      "text/html": [
       "<div>\n",
       "<style scoped>\n",
       "    .dataframe tbody tr th:only-of-type {\n",
       "        vertical-align: middle;\n",
       "    }\n",
       "\n",
       "    .dataframe tbody tr th {\n",
       "        vertical-align: top;\n",
       "    }\n",
       "\n",
       "    .dataframe thead th {\n",
       "        text-align: right;\n",
       "    }\n",
       "</style>\n",
       "<table border=\"1\" class=\"dataframe\">\n",
       "  <thead>\n",
       "    <tr style=\"text-align: right;\">\n",
       "      <th></th>\n",
       "      <th>CustomerId</th>\n",
       "      <th>Total Price</th>\n",
       "    </tr>\n",
       "  </thead>\n",
       "  <tbody>\n",
       "    <tr>\n",
       "      <th>0</th>\n",
       "      <td>C25132</td>\n",
       "      <td>15.30</td>\n",
       "    </tr>\n",
       "    <tr>\n",
       "      <th>1</th>\n",
       "      <td>C25132</td>\n",
       "      <td>20.34</td>\n",
       "    </tr>\n",
       "  </tbody>\n",
       "</table>\n",
       "</div>"
      ],
      "text/plain": [
       "  CustomerId  Total Price\n",
       "0     C25132        15.30\n",
       "1     C25132        20.34"
      ]
     },
     "execution_count": 8,
     "metadata": {},
     "output_type": "execute_result"
    }
   ],
   "source": [
    "columns = ['BillDate', 'BillNumber', 'UnitPrice', 'ProductID', 'Quantity'] #Specifying the column names which we want to drop.\n",
    "train_tran.drop(columns, axis = 1, inplace= True) # Dropping the specified columns\n",
    "train_tran.head(2)"
   ]
  },
  {
   "cell_type": "code",
   "execution_count": 9,
   "metadata": {},
   "outputs": [
    {
     "data": {
      "text/plain": [
       "CustomerId      object\n",
       "Total Price    float64\n",
       "dtype: object"
      ]
     },
     "execution_count": 9,
     "metadata": {},
     "output_type": "execute_result"
    }
   ],
   "source": [
    "train_tran.dtypes #checking the type of data"
   ]
  },
  {
   "cell_type": "code",
   "execution_count": 10,
   "metadata": {},
   "outputs": [
    {
     "data": {
      "text/html": [
       "<div>\n",
       "<style scoped>\n",
       "    .dataframe tbody tr th:only-of-type {\n",
       "        vertical-align: middle;\n",
       "    }\n",
       "\n",
       "    .dataframe tbody tr th {\n",
       "        vertical-align: top;\n",
       "    }\n",
       "\n",
       "    .dataframe thead th {\n",
       "        text-align: right;\n",
       "    }\n",
       "</style>\n",
       "<table border=\"1\" class=\"dataframe\">\n",
       "  <thead>\n",
       "    <tr style=\"text-align: right;\">\n",
       "      <th></th>\n",
       "      <th>CustomerId</th>\n",
       "      <th>DOB</th>\n",
       "      <th>gender</th>\n",
       "      <th>MaritalStatus</th>\n",
       "      <th>Familysize</th>\n",
       "    </tr>\n",
       "  </thead>\n",
       "  <tbody>\n",
       "    <tr>\n",
       "      <th>0</th>\n",
       "      <td>C21117</td>\n",
       "      <td>1985-06-14</td>\n",
       "      <td>M</td>\n",
       "      <td>Yes</td>\n",
       "      <td>4</td>\n",
       "    </tr>\n",
       "    <tr>\n",
       "      <th>1</th>\n",
       "      <td>C21118</td>\n",
       "      <td>1984-11-21</td>\n",
       "      <td>M</td>\n",
       "      <td>Yes</td>\n",
       "      <td>4</td>\n",
       "    </tr>\n",
       "    <tr>\n",
       "      <th>2</th>\n",
       "      <td>C21119</td>\n",
       "      <td>1999-02-01</td>\n",
       "      <td>M</td>\n",
       "      <td>Yes</td>\n",
       "      <td>2</td>\n",
       "    </tr>\n",
       "    <tr>\n",
       "      <th>3</th>\n",
       "      <td>C21121</td>\n",
       "      <td>1973-06-22</td>\n",
       "      <td>F</td>\n",
       "      <td>Yes</td>\n",
       "      <td>4</td>\n",
       "    </tr>\n",
       "    <tr>\n",
       "      <th>4</th>\n",
       "      <td>C21124</td>\n",
       "      <td>1966-01-02</td>\n",
       "      <td>M</td>\n",
       "      <td>Yes</td>\n",
       "      <td>3</td>\n",
       "    </tr>\n",
       "  </tbody>\n",
       "</table>\n",
       "</div>"
      ],
      "text/plain": [
       "  CustomerId         DOB gender MaritalStatus  Familysize\n",
       "0     C21117  1985-06-14      M           Yes           4\n",
       "1     C21118  1984-11-21      M           Yes           4\n",
       "2     C21119  1999-02-01      M           Yes           2\n",
       "3     C21121  1973-06-22      F           Yes           4\n",
       "4     C21124  1966-01-02      M           Yes           3"
      ]
     },
     "execution_count": 10,
     "metadata": {},
     "output_type": "execute_result"
    }
   ],
   "source": [
    "train_demo.head()"
   ]
  },
  {
   "cell_type": "code",
   "execution_count": 11,
   "metadata": {},
   "outputs": [
    {
     "data": {
      "text/plain": [
       "CustomerId       object\n",
       "DOB              object\n",
       "gender           object\n",
       "MaritalStatus    object\n",
       "Familysize        int64\n",
       "dtype: object"
      ]
     },
     "execution_count": 11,
     "metadata": {},
     "output_type": "execute_result"
    }
   ],
   "source": [
    "train_demo.dtypes"
   ]
  },
  {
   "cell_type": "markdown",
   "metadata": {},
   "source": [
    "#### converting into appropriate types"
   ]
  },
  {
   "cell_type": "code",
   "execution_count": 12,
   "metadata": {},
   "outputs": [
    {
     "name": "stdout",
     "output_type": "stream",
     "text": [
      "gender           object\n",
      "MaritalStatus    object\n",
      "dtype: object\n"
     ]
    },
    {
     "data": {
      "text/plain": [
       "gender           category\n",
       "MaritalStatus    category\n",
       "dtype: object"
      ]
     },
     "execution_count": 12,
     "metadata": {},
     "output_type": "execute_result"
    }
   ],
   "source": [
    "nominal_features_train = ['gender', 'MaritalStatus'] \n",
    "nominal_train = train_demo[nominal_features_train]\n",
    "print (nominal_train.dtypes)\n",
    "for col in nominal_features_train:\n",
    "    nominal_train[col] = nominal_train[col].astype('category')\n",
    "nominal_train.dtypes"
   ]
  },
  {
   "cell_type": "code",
   "execution_count": 13,
   "metadata": {
    "scrolled": true
   },
   "outputs": [
    {
     "data": {
      "text/html": [
       "<div>\n",
       "<style scoped>\n",
       "    .dataframe tbody tr th:only-of-type {\n",
       "        vertical-align: middle;\n",
       "    }\n",
       "\n",
       "    .dataframe tbody tr th {\n",
       "        vertical-align: top;\n",
       "    }\n",
       "\n",
       "    .dataframe thead th {\n",
       "        text-align: right;\n",
       "    }\n",
       "</style>\n",
       "<table border=\"1\" class=\"dataframe\">\n",
       "  <thead>\n",
       "    <tr style=\"text-align: right;\">\n",
       "      <th></th>\n",
       "      <th>gender</th>\n",
       "      <th>MaritalStatus</th>\n",
       "    </tr>\n",
       "  </thead>\n",
       "  <tbody>\n",
       "    <tr>\n",
       "      <th>0</th>\n",
       "      <td>M</td>\n",
       "      <td>Yes</td>\n",
       "    </tr>\n",
       "    <tr>\n",
       "      <th>1</th>\n",
       "      <td>M</td>\n",
       "      <td>Yes</td>\n",
       "    </tr>\n",
       "    <tr>\n",
       "      <th>2</th>\n",
       "      <td>M</td>\n",
       "      <td>Yes</td>\n",
       "    </tr>\n",
       "    <tr>\n",
       "      <th>3</th>\n",
       "      <td>F</td>\n",
       "      <td>Yes</td>\n",
       "    </tr>\n",
       "    <tr>\n",
       "      <th>4</th>\n",
       "      <td>M</td>\n",
       "      <td>Yes</td>\n",
       "    </tr>\n",
       "  </tbody>\n",
       "</table>\n",
       "</div>"
      ],
      "text/plain": [
       "  gender MaritalStatus\n",
       "0      M           Yes\n",
       "1      M           Yes\n",
       "2      M           Yes\n",
       "3      F           Yes\n",
       "4      M           Yes"
      ]
     },
     "execution_count": 13,
     "metadata": {},
     "output_type": "execute_result"
    }
   ],
   "source": [
    "nominal_train.head()"
   ]
  },
  {
   "cell_type": "code",
   "execution_count": 14,
   "metadata": {},
   "outputs": [
    {
     "data": {
      "text/plain": [
       "['gender', 'MaritalStatus']"
      ]
     },
     "execution_count": 14,
     "metadata": {},
     "output_type": "execute_result"
    }
   ],
   "source": [
    "nominal_features_train"
   ]
  },
  {
   "cell_type": "markdown",
   "metadata": {},
   "source": [
    "#### Performing dummification on nominal data"
   ]
  },
  {
   "cell_type": "code",
   "execution_count": 16,
   "metadata": {},
   "outputs": [],
   "source": [
    "df = pd.get_dummies(nominal_train, columns=['gender', 'MaritalStatus'], drop_first=True)"
   ]
  },
  {
   "cell_type": "code",
   "execution_count": 17,
   "metadata": {},
   "outputs": [
    {
     "data": {
      "text/html": [
       "<div>\n",
       "<style scoped>\n",
       "    .dataframe tbody tr th:only-of-type {\n",
       "        vertical-align: middle;\n",
       "    }\n",
       "\n",
       "    .dataframe tbody tr th {\n",
       "        vertical-align: top;\n",
       "    }\n",
       "\n",
       "    .dataframe thead th {\n",
       "        text-align: right;\n",
       "    }\n",
       "</style>\n",
       "<table border=\"1\" class=\"dataframe\">\n",
       "  <thead>\n",
       "    <tr style=\"text-align: right;\">\n",
       "      <th></th>\n",
       "      <th>gender_M</th>\n",
       "      <th>MaritalStatus_Yes</th>\n",
       "    </tr>\n",
       "  </thead>\n",
       "  <tbody>\n",
       "    <tr>\n",
       "      <th>0</th>\n",
       "      <td>1</td>\n",
       "      <td>1</td>\n",
       "    </tr>\n",
       "    <tr>\n",
       "      <th>1</th>\n",
       "      <td>1</td>\n",
       "      <td>1</td>\n",
       "    </tr>\n",
       "  </tbody>\n",
       "</table>\n",
       "</div>"
      ],
      "text/plain": [
       "   gender_M  MaritalStatus_Yes\n",
       "0         1                  1\n",
       "1         1                  1"
      ]
     },
     "execution_count": 17,
     "metadata": {},
     "output_type": "execute_result"
    }
   ],
   "source": [
    "df.head(2)"
   ]
  },
  {
   "cell_type": "markdown",
   "metadata": {},
   "source": [
    "#### Concating with dummified columns"
   ]
  },
  {
   "cell_type": "code",
   "execution_count": 18,
   "metadata": {
    "scrolled": true
   },
   "outputs": [
    {
     "data": {
      "text/html": [
       "<div>\n",
       "<style scoped>\n",
       "    .dataframe tbody tr th:only-of-type {\n",
       "        vertical-align: middle;\n",
       "    }\n",
       "\n",
       "    .dataframe tbody tr th {\n",
       "        vertical-align: top;\n",
       "    }\n",
       "\n",
       "    .dataframe thead th {\n",
       "        text-align: right;\n",
       "    }\n",
       "</style>\n",
       "<table border=\"1\" class=\"dataframe\">\n",
       "  <thead>\n",
       "    <tr style=\"text-align: right;\">\n",
       "      <th></th>\n",
       "      <th>CustomerId</th>\n",
       "      <th>DOB</th>\n",
       "      <th>gender</th>\n",
       "      <th>MaritalStatus</th>\n",
       "      <th>Familysize</th>\n",
       "      <th>gender_M</th>\n",
       "      <th>MaritalStatus_Yes</th>\n",
       "    </tr>\n",
       "  </thead>\n",
       "  <tbody>\n",
       "    <tr>\n",
       "      <th>0</th>\n",
       "      <td>C21117</td>\n",
       "      <td>1985-06-14</td>\n",
       "      <td>M</td>\n",
       "      <td>Yes</td>\n",
       "      <td>4</td>\n",
       "      <td>1</td>\n",
       "      <td>1</td>\n",
       "    </tr>\n",
       "    <tr>\n",
       "      <th>1</th>\n",
       "      <td>C21118</td>\n",
       "      <td>1984-11-21</td>\n",
       "      <td>M</td>\n",
       "      <td>Yes</td>\n",
       "      <td>4</td>\n",
       "      <td>1</td>\n",
       "      <td>1</td>\n",
       "    </tr>\n",
       "    <tr>\n",
       "      <th>2</th>\n",
       "      <td>C21119</td>\n",
       "      <td>1999-02-01</td>\n",
       "      <td>M</td>\n",
       "      <td>Yes</td>\n",
       "      <td>2</td>\n",
       "      <td>1</td>\n",
       "      <td>1</td>\n",
       "    </tr>\n",
       "    <tr>\n",
       "      <th>3</th>\n",
       "      <td>C21121</td>\n",
       "      <td>1973-06-22</td>\n",
       "      <td>F</td>\n",
       "      <td>Yes</td>\n",
       "      <td>4</td>\n",
       "      <td>0</td>\n",
       "      <td>1</td>\n",
       "    </tr>\n",
       "    <tr>\n",
       "      <th>4</th>\n",
       "      <td>C21124</td>\n",
       "      <td>1966-01-02</td>\n",
       "      <td>M</td>\n",
       "      <td>Yes</td>\n",
       "      <td>3</td>\n",
       "      <td>1</td>\n",
       "      <td>1</td>\n",
       "    </tr>\n",
       "  </tbody>\n",
       "</table>\n",
       "</div>"
      ],
      "text/plain": [
       "  CustomerId         DOB gender MaritalStatus  Familysize  gender_M  \\\n",
       "0     C21117  1985-06-14      M           Yes           4         1   \n",
       "1     C21118  1984-11-21      M           Yes           4         1   \n",
       "2     C21119  1999-02-01      M           Yes           2         1   \n",
       "3     C21121  1973-06-22      F           Yes           4         0   \n",
       "4     C21124  1966-01-02      M           Yes           3         1   \n",
       "\n",
       "   MaritalStatus_Yes  \n",
       "0                  1  \n",
       "1                  1  \n",
       "2                  1  \n",
       "3                  1  \n",
       "4                  1  "
      ]
     },
     "execution_count": 18,
     "metadata": {},
     "output_type": "execute_result"
    }
   ],
   "source": [
    "train_demo_final = pd.concat([train_demo, df], axis = 1)\n",
    "train_demo_final.head()"
   ]
  },
  {
   "cell_type": "markdown",
   "metadata": {},
   "source": [
    "#### Dropping the columns after dummification"
   ]
  },
  {
   "cell_type": "code",
   "execution_count": 19,
   "metadata": {},
   "outputs": [
    {
     "data": {
      "text/html": [
       "<div>\n",
       "<style scoped>\n",
       "    .dataframe tbody tr th:only-of-type {\n",
       "        vertical-align: middle;\n",
       "    }\n",
       "\n",
       "    .dataframe tbody tr th {\n",
       "        vertical-align: top;\n",
       "    }\n",
       "\n",
       "    .dataframe thead th {\n",
       "        text-align: right;\n",
       "    }\n",
       "</style>\n",
       "<table border=\"1\" class=\"dataframe\">\n",
       "  <thead>\n",
       "    <tr style=\"text-align: right;\">\n",
       "      <th></th>\n",
       "      <th>CustomerId</th>\n",
       "      <th>DOB</th>\n",
       "      <th>Familysize</th>\n",
       "      <th>gender_M</th>\n",
       "      <th>MaritalStatus_Yes</th>\n",
       "    </tr>\n",
       "  </thead>\n",
       "  <tbody>\n",
       "    <tr>\n",
       "      <th>0</th>\n",
       "      <td>C21117</td>\n",
       "      <td>1985-06-14</td>\n",
       "      <td>4</td>\n",
       "      <td>1</td>\n",
       "      <td>1</td>\n",
       "    </tr>\n",
       "    <tr>\n",
       "      <th>1</th>\n",
       "      <td>C21118</td>\n",
       "      <td>1984-11-21</td>\n",
       "      <td>4</td>\n",
       "      <td>1</td>\n",
       "      <td>1</td>\n",
       "    </tr>\n",
       "  </tbody>\n",
       "</table>\n",
       "</div>"
      ],
      "text/plain": [
       "  CustomerId         DOB  Familysize  gender_M  MaritalStatus_Yes\n",
       "0     C21117  1985-06-14           4         1                  1\n",
       "1     C21118  1984-11-21           4         1                  1"
      ]
     },
     "execution_count": 19,
     "metadata": {},
     "output_type": "execute_result"
    }
   ],
   "source": [
    "train_demo_final1 = train_demo_final.drop(['gender', 'MaritalStatus'], axis = 1)\n",
    "train_demo_final1.head(2)"
   ]
  },
  {
   "cell_type": "code",
   "execution_count": 21,
   "metadata": {},
   "outputs": [],
   "source": [
    "train_demo_final1['DOB']=pd.to_datetime(train_demo_final1['DOB'], format =\"%Y/%m/%d\") #converting DOB column into appropriate format"
   ]
  },
  {
   "cell_type": "markdown",
   "metadata": {},
   "source": [
    "###### Calculating age with DOB"
   ]
  },
  {
   "cell_type": "code",
   "execution_count": 22,
   "metadata": {},
   "outputs": [
    {
     "data": {
      "text/plain": [
       "0    34\n",
       "1    34\n",
       "2    20\n",
       "3    46\n",
       "4    53\n",
       "Name: Age, dtype: int64"
      ]
     },
     "execution_count": 22,
     "metadata": {},
     "output_type": "execute_result"
    }
   ],
   "source": [
    "from datetime import datetime\n",
    "from datetime import date\n",
    "def calculate_age(born):\n",
    "    today = date.today()\n",
    "    return today.year - born.year - ((today.month, today.day) < (born.month, born.day))\n",
    "\n",
    "Age_train = train_demo_final1.DOB.apply(calculate_age)\n",
    "type(Age_train)\n",
    "Age_train = Age_train.rename(\"Age\")\n",
    "Age_train.head()"
   ]
  },
  {
   "cell_type": "code",
   "execution_count": 23,
   "metadata": {},
   "outputs": [
    {
     "data": {
      "text/html": [
       "<div>\n",
       "<style scoped>\n",
       "    .dataframe tbody tr th:only-of-type {\n",
       "        vertical-align: middle;\n",
       "    }\n",
       "\n",
       "    .dataframe tbody tr th {\n",
       "        vertical-align: top;\n",
       "    }\n",
       "\n",
       "    .dataframe thead th {\n",
       "        text-align: right;\n",
       "    }\n",
       "</style>\n",
       "<table border=\"1\" class=\"dataframe\">\n",
       "  <thead>\n",
       "    <tr style=\"text-align: right;\">\n",
       "      <th></th>\n",
       "      <th>CustomerId</th>\n",
       "      <th>DOB</th>\n",
       "      <th>Familysize</th>\n",
       "      <th>gender_M</th>\n",
       "      <th>MaritalStatus_Yes</th>\n",
       "    </tr>\n",
       "  </thead>\n",
       "  <tbody>\n",
       "    <tr>\n",
       "      <th>0</th>\n",
       "      <td>C21117</td>\n",
       "      <td>1985-06-14</td>\n",
       "      <td>4</td>\n",
       "      <td>1</td>\n",
       "      <td>1</td>\n",
       "    </tr>\n",
       "    <tr>\n",
       "      <th>1</th>\n",
       "      <td>C21118</td>\n",
       "      <td>1984-11-21</td>\n",
       "      <td>4</td>\n",
       "      <td>1</td>\n",
       "      <td>1</td>\n",
       "    </tr>\n",
       "    <tr>\n",
       "      <th>2</th>\n",
       "      <td>C21119</td>\n",
       "      <td>1999-02-01</td>\n",
       "      <td>2</td>\n",
       "      <td>1</td>\n",
       "      <td>1</td>\n",
       "    </tr>\n",
       "    <tr>\n",
       "      <th>3</th>\n",
       "      <td>C21121</td>\n",
       "      <td>1973-06-22</td>\n",
       "      <td>4</td>\n",
       "      <td>0</td>\n",
       "      <td>1</td>\n",
       "    </tr>\n",
       "    <tr>\n",
       "      <th>4</th>\n",
       "      <td>C21124</td>\n",
       "      <td>1966-01-02</td>\n",
       "      <td>3</td>\n",
       "      <td>1</td>\n",
       "      <td>1</td>\n",
       "    </tr>\n",
       "  </tbody>\n",
       "</table>\n",
       "</div>"
      ],
      "text/plain": [
       "  CustomerId        DOB  Familysize  gender_M  MaritalStatus_Yes\n",
       "0     C21117 1985-06-14           4         1                  1\n",
       "1     C21118 1984-11-21           4         1                  1\n",
       "2     C21119 1999-02-01           2         1                  1\n",
       "3     C21121 1973-06-22           4         0                  1\n",
       "4     C21124 1966-01-02           3         1                  1"
      ]
     },
     "execution_count": 23,
     "metadata": {},
     "output_type": "execute_result"
    }
   ],
   "source": [
    "train_demo_final1.head()"
   ]
  },
  {
   "cell_type": "code",
   "execution_count": 24,
   "metadata": {
    "scrolled": true
   },
   "outputs": [
    {
     "data": {
      "text/html": [
       "<div>\n",
       "<style scoped>\n",
       "    .dataframe tbody tr th:only-of-type {\n",
       "        vertical-align: middle;\n",
       "    }\n",
       "\n",
       "    .dataframe tbody tr th {\n",
       "        vertical-align: top;\n",
       "    }\n",
       "\n",
       "    .dataframe thead th {\n",
       "        text-align: right;\n",
       "    }\n",
       "</style>\n",
       "<table border=\"1\" class=\"dataframe\">\n",
       "  <thead>\n",
       "    <tr style=\"text-align: right;\">\n",
       "      <th></th>\n",
       "      <th>CustomerId</th>\n",
       "      <th>DOB</th>\n",
       "      <th>Familysize</th>\n",
       "      <th>gender_M</th>\n",
       "      <th>MaritalStatus_Yes</th>\n",
       "      <th>Age</th>\n",
       "    </tr>\n",
       "  </thead>\n",
       "  <tbody>\n",
       "    <tr>\n",
       "      <th>0</th>\n",
       "      <td>C21117</td>\n",
       "      <td>1985-06-14</td>\n",
       "      <td>4</td>\n",
       "      <td>1</td>\n",
       "      <td>1</td>\n",
       "      <td>34</td>\n",
       "    </tr>\n",
       "    <tr>\n",
       "      <th>1</th>\n",
       "      <td>C21118</td>\n",
       "      <td>1984-11-21</td>\n",
       "      <td>4</td>\n",
       "      <td>1</td>\n",
       "      <td>1</td>\n",
       "      <td>34</td>\n",
       "    </tr>\n",
       "    <tr>\n",
       "      <th>2</th>\n",
       "      <td>C21119</td>\n",
       "      <td>1999-02-01</td>\n",
       "      <td>2</td>\n",
       "      <td>1</td>\n",
       "      <td>1</td>\n",
       "      <td>20</td>\n",
       "    </tr>\n",
       "    <tr>\n",
       "      <th>3</th>\n",
       "      <td>C21121</td>\n",
       "      <td>1973-06-22</td>\n",
       "      <td>4</td>\n",
       "      <td>0</td>\n",
       "      <td>1</td>\n",
       "      <td>46</td>\n",
       "    </tr>\n",
       "    <tr>\n",
       "      <th>4</th>\n",
       "      <td>C21124</td>\n",
       "      <td>1966-01-02</td>\n",
       "      <td>3</td>\n",
       "      <td>1</td>\n",
       "      <td>1</td>\n",
       "      <td>53</td>\n",
       "    </tr>\n",
       "  </tbody>\n",
       "</table>\n",
       "</div>"
      ],
      "text/plain": [
       "  CustomerId        DOB  Familysize  gender_M  MaritalStatus_Yes  Age\n",
       "0     C21117 1985-06-14           4         1                  1   34\n",
       "1     C21118 1984-11-21           4         1                  1   34\n",
       "2     C21119 1999-02-01           2         1                  1   20\n",
       "3     C21121 1973-06-22           4         0                  1   46\n",
       "4     C21124 1966-01-02           3         1                  1   53"
      ]
     },
     "execution_count": 24,
     "metadata": {},
     "output_type": "execute_result"
    }
   ],
   "source": [
    "train_demo_final1 = pd.concat([train_demo_final1, Age_train], axis = 1)\n",
    "train_demo_final1.head()"
   ]
  },
  {
   "cell_type": "markdown",
   "metadata": {},
   "source": [
    "#### After calculating 'AGE' dropping the column 'DOB'"
   ]
  },
  {
   "cell_type": "code",
   "execution_count": 26,
   "metadata": {},
   "outputs": [
    {
     "data": {
      "text/html": [
       "<div>\n",
       "<style scoped>\n",
       "    .dataframe tbody tr th:only-of-type {\n",
       "        vertical-align: middle;\n",
       "    }\n",
       "\n",
       "    .dataframe tbody tr th {\n",
       "        vertical-align: top;\n",
       "    }\n",
       "\n",
       "    .dataframe thead th {\n",
       "        text-align: right;\n",
       "    }\n",
       "</style>\n",
       "<table border=\"1\" class=\"dataframe\">\n",
       "  <thead>\n",
       "    <tr style=\"text-align: right;\">\n",
       "      <th></th>\n",
       "      <th>CustomerId</th>\n",
       "      <th>Familysize</th>\n",
       "      <th>gender_M</th>\n",
       "      <th>MaritalStatus_Yes</th>\n",
       "      <th>Age</th>\n",
       "    </tr>\n",
       "  </thead>\n",
       "  <tbody>\n",
       "    <tr>\n",
       "      <th>0</th>\n",
       "      <td>C21117</td>\n",
       "      <td>4</td>\n",
       "      <td>1</td>\n",
       "      <td>1</td>\n",
       "      <td>34</td>\n",
       "    </tr>\n",
       "    <tr>\n",
       "      <th>1</th>\n",
       "      <td>C21118</td>\n",
       "      <td>4</td>\n",
       "      <td>1</td>\n",
       "      <td>1</td>\n",
       "      <td>34</td>\n",
       "    </tr>\n",
       "    <tr>\n",
       "      <th>2</th>\n",
       "      <td>C21119</td>\n",
       "      <td>2</td>\n",
       "      <td>1</td>\n",
       "      <td>1</td>\n",
       "      <td>20</td>\n",
       "    </tr>\n",
       "    <tr>\n",
       "      <th>3</th>\n",
       "      <td>C21121</td>\n",
       "      <td>4</td>\n",
       "      <td>0</td>\n",
       "      <td>1</td>\n",
       "      <td>46</td>\n",
       "    </tr>\n",
       "    <tr>\n",
       "      <th>4</th>\n",
       "      <td>C21124</td>\n",
       "      <td>3</td>\n",
       "      <td>1</td>\n",
       "      <td>1</td>\n",
       "      <td>53</td>\n",
       "    </tr>\n",
       "  </tbody>\n",
       "</table>\n",
       "</div>"
      ],
      "text/plain": [
       "  CustomerId  Familysize  gender_M  MaritalStatus_Yes  Age\n",
       "0     C21117           4         1                  1   34\n",
       "1     C21118           4         1                  1   34\n",
       "2     C21119           2         1                  1   20\n",
       "3     C21121           4         0                  1   46\n",
       "4     C21124           3         1                  1   53"
      ]
     },
     "execution_count": 26,
     "metadata": {},
     "output_type": "execute_result"
    }
   ],
   "source": [
    "train_demo_final2 = train_demo_final1.drop('DOB', axis=1)\n",
    "train_demo_final2.head()"
   ]
  },
  {
   "cell_type": "markdown",
   "metadata": {},
   "source": [
    "#### Renaming the column name"
   ]
  },
  {
   "cell_type": "code",
   "execution_count": 27,
   "metadata": {},
   "outputs": [
    {
     "data": {
      "text/html": [
       "<div>\n",
       "<style scoped>\n",
       "    .dataframe tbody tr th:only-of-type {\n",
       "        vertical-align: middle;\n",
       "    }\n",
       "\n",
       "    .dataframe tbody tr th {\n",
       "        vertical-align: top;\n",
       "    }\n",
       "\n",
       "    .dataframe thead th {\n",
       "        text-align: right;\n",
       "    }\n",
       "</style>\n",
       "<table border=\"1\" class=\"dataframe\">\n",
       "  <thead>\n",
       "    <tr style=\"text-align: right;\">\n",
       "      <th></th>\n",
       "      <th>CustomerId</th>\n",
       "      <th>Familysize</th>\n",
       "      <th>Male</th>\n",
       "      <th>Married</th>\n",
       "      <th>Age</th>\n",
       "    </tr>\n",
       "  </thead>\n",
       "  <tbody>\n",
       "    <tr>\n",
       "      <th>0</th>\n",
       "      <td>C21117</td>\n",
       "      <td>4</td>\n",
       "      <td>1</td>\n",
       "      <td>1</td>\n",
       "      <td>34</td>\n",
       "    </tr>\n",
       "    <tr>\n",
       "      <th>1</th>\n",
       "      <td>C21118</td>\n",
       "      <td>4</td>\n",
       "      <td>1</td>\n",
       "      <td>1</td>\n",
       "      <td>34</td>\n",
       "    </tr>\n",
       "    <tr>\n",
       "      <th>2</th>\n",
       "      <td>C21119</td>\n",
       "      <td>2</td>\n",
       "      <td>1</td>\n",
       "      <td>1</td>\n",
       "      <td>20</td>\n",
       "    </tr>\n",
       "    <tr>\n",
       "      <th>3</th>\n",
       "      <td>C21121</td>\n",
       "      <td>4</td>\n",
       "      <td>0</td>\n",
       "      <td>1</td>\n",
       "      <td>46</td>\n",
       "    </tr>\n",
       "    <tr>\n",
       "      <th>4</th>\n",
       "      <td>C21124</td>\n",
       "      <td>3</td>\n",
       "      <td>1</td>\n",
       "      <td>1</td>\n",
       "      <td>53</td>\n",
       "    </tr>\n",
       "  </tbody>\n",
       "</table>\n",
       "</div>"
      ],
      "text/plain": [
       "  CustomerId  Familysize  Male  Married  Age\n",
       "0     C21117           4     1        1   34\n",
       "1     C21118           4     1        1   34\n",
       "2     C21119           2     1        1   20\n",
       "3     C21121           4     0        1   46\n",
       "4     C21124           3     1        1   53"
      ]
     },
     "execution_count": 27,
     "metadata": {},
     "output_type": "execute_result"
    }
   ],
   "source": [
    "train_demo_final2 = train_demo_final2.rename(columns={'gender_M': 'Male', 'MaritalStatus_Yes': 'Married'})\n",
    "train_demo_final2.head()"
   ]
  },
  {
   "cell_type": "markdown",
   "metadata": {},
   "source": [
    "#### Merging the datasets on the basis of 'CustomerId'"
   ]
  },
  {
   "cell_type": "code",
   "execution_count": 29,
   "metadata": {},
   "outputs": [
    {
     "data": {
      "text/html": [
       "<div>\n",
       "<style scoped>\n",
       "    .dataframe tbody tr th:only-of-type {\n",
       "        vertical-align: middle;\n",
       "    }\n",
       "\n",
       "    .dataframe tbody tr th {\n",
       "        vertical-align: top;\n",
       "    }\n",
       "\n",
       "    .dataframe thead th {\n",
       "        text-align: right;\n",
       "    }\n",
       "</style>\n",
       "<table border=\"1\" class=\"dataframe\">\n",
       "  <thead>\n",
       "    <tr style=\"text-align: right;\">\n",
       "      <th></th>\n",
       "      <th>CustomerId</th>\n",
       "      <th>Familysize</th>\n",
       "      <th>Male</th>\n",
       "      <th>Married</th>\n",
       "      <th>Age</th>\n",
       "      <th>Total Price</th>\n",
       "    </tr>\n",
       "  </thead>\n",
       "  <tbody>\n",
       "    <tr>\n",
       "      <th>0</th>\n",
       "      <td>C21117</td>\n",
       "      <td>4</td>\n",
       "      <td>1</td>\n",
       "      <td>1</td>\n",
       "      <td>34</td>\n",
       "      <td>25.2</td>\n",
       "    </tr>\n",
       "    <tr>\n",
       "      <th>1</th>\n",
       "      <td>C21117</td>\n",
       "      <td>4</td>\n",
       "      <td>1</td>\n",
       "      <td>1</td>\n",
       "      <td>34</td>\n",
       "      <td>17.0</td>\n",
       "    </tr>\n",
       "    <tr>\n",
       "      <th>2</th>\n",
       "      <td>C21117</td>\n",
       "      <td>4</td>\n",
       "      <td>1</td>\n",
       "      <td>1</td>\n",
       "      <td>34</td>\n",
       "      <td>39.0</td>\n",
       "    </tr>\n",
       "    <tr>\n",
       "      <th>3</th>\n",
       "      <td>C21117</td>\n",
       "      <td>4</td>\n",
       "      <td>1</td>\n",
       "      <td>1</td>\n",
       "      <td>34</td>\n",
       "      <td>23.4</td>\n",
       "    </tr>\n",
       "    <tr>\n",
       "      <th>4</th>\n",
       "      <td>C21117</td>\n",
       "      <td>4</td>\n",
       "      <td>1</td>\n",
       "      <td>1</td>\n",
       "      <td>34</td>\n",
       "      <td>15.0</td>\n",
       "    </tr>\n",
       "  </tbody>\n",
       "</table>\n",
       "</div>"
      ],
      "text/plain": [
       "  CustomerId  Familysize  Male  Married  Age  Total Price\n",
       "0     C21117           4     1        1   34         25.2\n",
       "1     C21117           4     1        1   34         17.0\n",
       "2     C21117           4     1        1   34         39.0\n",
       "3     C21117           4     1        1   34         23.4\n",
       "4     C21117           4     1        1   34         15.0"
      ]
     },
     "execution_count": 29,
     "metadata": {},
     "output_type": "execute_result"
    }
   ],
   "source": [
    "df_train = pd.merge(train_demo_final2, train_tran, on = ['CustomerId'])\n",
    "df_train.head()"
   ]
  },
  {
   "cell_type": "markdown",
   "metadata": {},
   "source": [
    "#### Let's check the shape of the dataset"
   ]
  },
  {
   "cell_type": "code",
   "execution_count": 30,
   "metadata": {},
   "outputs": [
    {
     "data": {
      "text/plain": [
       "(320009, 6)"
      ]
     },
     "execution_count": 30,
     "metadata": {},
     "output_type": "execute_result"
    }
   ],
   "source": [
    "df_train.shape"
   ]
  },
  {
   "cell_type": "code",
   "execution_count": 31,
   "metadata": {},
   "outputs": [
    {
     "data": {
      "text/plain": [
       "pandas.core.frame.DataFrame"
      ]
     },
     "execution_count": 31,
     "metadata": {},
     "output_type": "execute_result"
    }
   ],
   "source": [
    "type(df_train)"
   ]
  },
  {
   "cell_type": "code",
   "execution_count": 32,
   "metadata": {
    "scrolled": true
   },
   "outputs": [
    {
     "data": {
      "text/html": [
       "<div>\n",
       "<style scoped>\n",
       "    .dataframe tbody tr th:only-of-type {\n",
       "        vertical-align: middle;\n",
       "    }\n",
       "\n",
       "    .dataframe tbody tr th {\n",
       "        vertical-align: top;\n",
       "    }\n",
       "\n",
       "    .dataframe thead th {\n",
       "        text-align: right;\n",
       "    }\n",
       "</style>\n",
       "<table border=\"1\" class=\"dataframe\">\n",
       "  <thead>\n",
       "    <tr style=\"text-align: right;\">\n",
       "      <th></th>\n",
       "      <th>CustomerId</th>\n",
       "      <th>Total Price</th>\n",
       "    </tr>\n",
       "  </thead>\n",
       "  <tbody>\n",
       "    <tr>\n",
       "      <th>0</th>\n",
       "      <td>C21117</td>\n",
       "      <td>4085.18</td>\n",
       "    </tr>\n",
       "    <tr>\n",
       "      <th>1</th>\n",
       "      <td>C21118</td>\n",
       "      <td>1797.24</td>\n",
       "    </tr>\n",
       "    <tr>\n",
       "      <th>2</th>\n",
       "      <td>C21119</td>\n",
       "      <td>1757.55</td>\n",
       "    </tr>\n",
       "    <tr>\n",
       "      <th>3</th>\n",
       "      <td>C21121</td>\n",
       "      <td>2506.04</td>\n",
       "    </tr>\n",
       "    <tr>\n",
       "      <th>4</th>\n",
       "      <td>C21124</td>\n",
       "      <td>459.40</td>\n",
       "    </tr>\n",
       "  </tbody>\n",
       "</table>\n",
       "</div>"
      ],
      "text/plain": [
       "  CustomerId  Total Price\n",
       "0     C21117      4085.18\n",
       "1     C21118      1797.24\n",
       "2     C21119      1757.55\n",
       "3     C21121      2506.04\n",
       "4     C21124       459.40"
      ]
     },
     "execution_count": 32,
     "metadata": {},
     "output_type": "execute_result"
    }
   ],
   "source": [
    "df_train = df_train.groupby('CustomerId')['Total Price'].sum().reset_index() #groupby with CustomerID and TotalPrice\n",
    "\n",
    "df_train.head()"
   ]
  },
  {
   "cell_type": "code",
   "execution_count": 33,
   "metadata": {},
   "outputs": [
    {
     "data": {
      "text/html": [
       "<div>\n",
       "<style scoped>\n",
       "    .dataframe tbody tr th:only-of-type {\n",
       "        vertical-align: middle;\n",
       "    }\n",
       "\n",
       "    .dataframe tbody tr th {\n",
       "        vertical-align: top;\n",
       "    }\n",
       "\n",
       "    .dataframe thead th {\n",
       "        text-align: right;\n",
       "    }\n",
       "</style>\n",
       "<table border=\"1\" class=\"dataframe\">\n",
       "  <thead>\n",
       "    <tr style=\"text-align: right;\">\n",
       "      <th></th>\n",
       "      <th>CustomerId</th>\n",
       "      <th>Familysize</th>\n",
       "      <th>Male</th>\n",
       "      <th>Married</th>\n",
       "      <th>Age</th>\n",
       "      <th>Total Price</th>\n",
       "    </tr>\n",
       "  </thead>\n",
       "  <tbody>\n",
       "    <tr>\n",
       "      <th>0</th>\n",
       "      <td>C21117</td>\n",
       "      <td>4</td>\n",
       "      <td>1</td>\n",
       "      <td>1</td>\n",
       "      <td>34</td>\n",
       "      <td>4085.18</td>\n",
       "    </tr>\n",
       "    <tr>\n",
       "      <th>1</th>\n",
       "      <td>C21118</td>\n",
       "      <td>4</td>\n",
       "      <td>1</td>\n",
       "      <td>1</td>\n",
       "      <td>34</td>\n",
       "      <td>1797.24</td>\n",
       "    </tr>\n",
       "    <tr>\n",
       "      <th>2</th>\n",
       "      <td>C21119</td>\n",
       "      <td>2</td>\n",
       "      <td>1</td>\n",
       "      <td>1</td>\n",
       "      <td>20</td>\n",
       "      <td>1757.55</td>\n",
       "    </tr>\n",
       "    <tr>\n",
       "      <th>3</th>\n",
       "      <td>C21121</td>\n",
       "      <td>4</td>\n",
       "      <td>0</td>\n",
       "      <td>1</td>\n",
       "      <td>46</td>\n",
       "      <td>2506.04</td>\n",
       "    </tr>\n",
       "    <tr>\n",
       "      <th>4</th>\n",
       "      <td>C21124</td>\n",
       "      <td>3</td>\n",
       "      <td>1</td>\n",
       "      <td>1</td>\n",
       "      <td>53</td>\n",
       "      <td>459.40</td>\n",
       "    </tr>\n",
       "  </tbody>\n",
       "</table>\n",
       "</div>"
      ],
      "text/plain": [
       "  CustomerId  Familysize  Male  Married  Age  Total Price\n",
       "0     C21117           4     1        1   34      4085.18\n",
       "1     C21118           4     1        1   34      1797.24\n",
       "2     C21119           2     1        1   20      1757.55\n",
       "3     C21121           4     0        1   46      2506.04\n",
       "4     C21124           3     1        1   53       459.40"
      ]
     },
     "execution_count": 33,
     "metadata": {},
     "output_type": "execute_result"
    }
   ],
   "source": [
    "df_train = pd.merge(train_demo_final2, df_train, on = ['CustomerId']) #merging the datasets\n",
    "df_train.head()"
   ]
  },
  {
   "cell_type": "code",
   "execution_count": 34,
   "metadata": {},
   "outputs": [
    {
     "data": {
      "text/plain": [
       "(3315, 6)"
      ]
     },
     "execution_count": 34,
     "metadata": {},
     "output_type": "execute_result"
    }
   ],
   "source": [
    "df_train.shape"
   ]
  },
  {
   "cell_type": "markdown",
   "metadata": {},
   "source": [
    "#### Let's check for NULL values"
   ]
  },
  {
   "cell_type": "code",
   "execution_count": 36,
   "metadata": {
    "scrolled": true
   },
   "outputs": [
    {
     "data": {
      "text/plain": [
       "CustomerId     0\n",
       "Familysize     0\n",
       "Male           0\n",
       "Married        0\n",
       "Age            0\n",
       "Total Price    0\n",
       "dtype: int64"
      ]
     },
     "execution_count": 36,
     "metadata": {},
     "output_type": "execute_result"
    }
   ],
   "source": [
    "df_train.isnull().sum()"
   ]
  },
  {
   "cell_type": "markdown",
   "metadata": {},
   "source": [
    "There is no null values present in the dataset."
   ]
  },
  {
   "cell_type": "markdown",
   "metadata": {},
   "source": [
    "#### Let's check the summary of the data."
   ]
  },
  {
   "cell_type": "code",
   "execution_count": 37,
   "metadata": {},
   "outputs": [
    {
     "data": {
      "text/html": [
       "<div>\n",
       "<style scoped>\n",
       "    .dataframe tbody tr th:only-of-type {\n",
       "        vertical-align: middle;\n",
       "    }\n",
       "\n",
       "    .dataframe tbody tr th {\n",
       "        vertical-align: top;\n",
       "    }\n",
       "\n",
       "    .dataframe thead th {\n",
       "        text-align: right;\n",
       "    }\n",
       "</style>\n",
       "<table border=\"1\" class=\"dataframe\">\n",
       "  <thead>\n",
       "    <tr style=\"text-align: right;\">\n",
       "      <th></th>\n",
       "      <th>Familysize</th>\n",
       "      <th>Male</th>\n",
       "      <th>Married</th>\n",
       "      <th>Age</th>\n",
       "      <th>Total Price</th>\n",
       "    </tr>\n",
       "  </thead>\n",
       "  <tbody>\n",
       "    <tr>\n",
       "      <th>count</th>\n",
       "      <td>3315.000000</td>\n",
       "      <td>3315.000000</td>\n",
       "      <td>3315.000000</td>\n",
       "      <td>3315.000000</td>\n",
       "      <td>3315.000000</td>\n",
       "    </tr>\n",
       "    <tr>\n",
       "      <th>mean</th>\n",
       "      <td>2.775867</td>\n",
       "      <td>0.491403</td>\n",
       "      <td>0.961388</td>\n",
       "      <td>40.528507</td>\n",
       "      <td>2240.531161</td>\n",
       "    </tr>\n",
       "    <tr>\n",
       "      <th>std</th>\n",
       "      <td>0.975943</td>\n",
       "      <td>0.500002</td>\n",
       "      <td>0.192698</td>\n",
       "      <td>18.872232</td>\n",
       "      <td>9273.947194</td>\n",
       "    </tr>\n",
       "    <tr>\n",
       "      <th>min</th>\n",
       "      <td>1.000000</td>\n",
       "      <td>0.000000</td>\n",
       "      <td>0.000000</td>\n",
       "      <td>17.000000</td>\n",
       "      <td>2.900000</td>\n",
       "    </tr>\n",
       "    <tr>\n",
       "      <th>25%</th>\n",
       "      <td>2.000000</td>\n",
       "      <td>0.000000</td>\n",
       "      <td>1.000000</td>\n",
       "      <td>25.000000</td>\n",
       "      <td>515.610000</td>\n",
       "    </tr>\n",
       "    <tr>\n",
       "      <th>50%</th>\n",
       "      <td>2.000000</td>\n",
       "      <td>0.000000</td>\n",
       "      <td>1.000000</td>\n",
       "      <td>35.000000</td>\n",
       "      <td>859.350000</td>\n",
       "    </tr>\n",
       "    <tr>\n",
       "      <th>75%</th>\n",
       "      <td>4.000000</td>\n",
       "      <td>1.000000</td>\n",
       "      <td>1.000000</td>\n",
       "      <td>51.000000</td>\n",
       "      <td>1740.455000</td>\n",
       "    </tr>\n",
       "    <tr>\n",
       "      <th>max</th>\n",
       "      <td>4.000000</td>\n",
       "      <td>1.000000</td>\n",
       "      <td>1.000000</td>\n",
       "      <td>87.000000</td>\n",
       "      <td>268452.530000</td>\n",
       "    </tr>\n",
       "  </tbody>\n",
       "</table>\n",
       "</div>"
      ],
      "text/plain": [
       "        Familysize         Male      Married          Age    Total Price\n",
       "count  3315.000000  3315.000000  3315.000000  3315.000000    3315.000000\n",
       "mean      2.775867     0.491403     0.961388    40.528507    2240.531161\n",
       "std       0.975943     0.500002     0.192698    18.872232    9273.947194\n",
       "min       1.000000     0.000000     0.000000    17.000000       2.900000\n",
       "25%       2.000000     0.000000     1.000000    25.000000     515.610000\n",
       "50%       2.000000     0.000000     1.000000    35.000000     859.350000\n",
       "75%       4.000000     1.000000     1.000000    51.000000    1740.455000\n",
       "max       4.000000     1.000000     1.000000    87.000000  268452.530000"
      ]
     },
     "execution_count": 37,
     "metadata": {},
     "output_type": "execute_result"
    }
   ],
   "source": [
    "df_train.describe()"
   ]
  },
  {
   "cell_type": "code",
   "execution_count": 38,
   "metadata": {
    "scrolled": true
   },
   "outputs": [
    {
     "name": "stdout",
     "output_type": "stream",
     "text": [
      "<class 'pandas.core.frame.DataFrame'>\n",
      "Int64Index: 3315 entries, 0 to 3314\n",
      "Data columns (total 6 columns):\n",
      "CustomerId     3315 non-null object\n",
      "Familysize     3315 non-null int64\n",
      "Male           3315 non-null uint8\n",
      "Married        3315 non-null uint8\n",
      "Age            3315 non-null int64\n",
      "Total Price    3315 non-null float64\n",
      "dtypes: float64(1), int64(2), object(1), uint8(2)\n",
      "memory usage: 136.0+ KB\n"
     ]
    }
   ],
   "source": [
    "df_train.info()"
   ]
  },
  {
   "cell_type": "code",
   "execution_count": 39,
   "metadata": {},
   "outputs": [
    {
     "data": {
      "text/html": [
       "<div>\n",
       "<style scoped>\n",
       "    .dataframe tbody tr th:only-of-type {\n",
       "        vertical-align: middle;\n",
       "    }\n",
       "\n",
       "    .dataframe tbody tr th {\n",
       "        vertical-align: top;\n",
       "    }\n",
       "\n",
       "    .dataframe thead th {\n",
       "        text-align: right;\n",
       "    }\n",
       "</style>\n",
       "<table border=\"1\" class=\"dataframe\">\n",
       "  <thead>\n",
       "    <tr style=\"text-align: right;\">\n",
       "      <th></th>\n",
       "      <th>CustomerId</th>\n",
       "      <th>CustomerValue</th>\n",
       "    </tr>\n",
       "  </thead>\n",
       "  <tbody>\n",
       "    <tr>\n",
       "      <th>0</th>\n",
       "      <td>C22981</td>\n",
       "      <td>High</td>\n",
       "    </tr>\n",
       "    <tr>\n",
       "      <th>1</th>\n",
       "      <td>C28576</td>\n",
       "      <td>Low</td>\n",
       "    </tr>\n",
       "    <tr>\n",
       "      <th>2</th>\n",
       "      <td>C23809</td>\n",
       "      <td>Low</td>\n",
       "    </tr>\n",
       "    <tr>\n",
       "      <th>3</th>\n",
       "      <td>C29339</td>\n",
       "      <td>Low</td>\n",
       "    </tr>\n",
       "    <tr>\n",
       "      <th>4</th>\n",
       "      <td>C30598</td>\n",
       "      <td>Low</td>\n",
       "    </tr>\n",
       "  </tbody>\n",
       "</table>\n",
       "</div>"
      ],
      "text/plain": [
       "  CustomerId CustomerValue\n",
       "0     C22981          High\n",
       "1     C28576           Low\n",
       "2     C23809           Low\n",
       "3     C29339           Low\n",
       "4     C30598           Low"
      ]
     },
     "execution_count": 39,
     "metadata": {},
     "output_type": "execute_result"
    }
   ],
   "source": [
    "train.head()"
   ]
  },
  {
   "cell_type": "code",
   "execution_count": 40,
   "metadata": {},
   "outputs": [
    {
     "data": {
      "text/html": [
       "<div>\n",
       "<style scoped>\n",
       "    .dataframe tbody tr th:only-of-type {\n",
       "        vertical-align: middle;\n",
       "    }\n",
       "\n",
       "    .dataframe tbody tr th {\n",
       "        vertical-align: top;\n",
       "    }\n",
       "\n",
       "    .dataframe thead th {\n",
       "        text-align: right;\n",
       "    }\n",
       "</style>\n",
       "<table border=\"1\" class=\"dataframe\">\n",
       "  <thead>\n",
       "    <tr style=\"text-align: right;\">\n",
       "      <th></th>\n",
       "      <th>CustomerId</th>\n",
       "      <th>CustomerValue</th>\n",
       "      <th>Familysize</th>\n",
       "      <th>Male</th>\n",
       "      <th>Married</th>\n",
       "      <th>Age</th>\n",
       "      <th>Total Price</th>\n",
       "    </tr>\n",
       "  </thead>\n",
       "  <tbody>\n",
       "    <tr>\n",
       "      <th>0</th>\n",
       "      <td>C22981</td>\n",
       "      <td>High</td>\n",
       "      <td>4</td>\n",
       "      <td>0</td>\n",
       "      <td>1</td>\n",
       "      <td>28</td>\n",
       "      <td>1237.85</td>\n",
       "    </tr>\n",
       "    <tr>\n",
       "      <th>1</th>\n",
       "      <td>C28576</td>\n",
       "      <td>Low</td>\n",
       "      <td>3</td>\n",
       "      <td>0</td>\n",
       "      <td>1</td>\n",
       "      <td>27</td>\n",
       "      <td>961.52</td>\n",
       "    </tr>\n",
       "    <tr>\n",
       "      <th>2</th>\n",
       "      <td>C23809</td>\n",
       "      <td>Low</td>\n",
       "      <td>2</td>\n",
       "      <td>0</td>\n",
       "      <td>1</td>\n",
       "      <td>19</td>\n",
       "      <td>408.90</td>\n",
       "    </tr>\n",
       "    <tr>\n",
       "      <th>3</th>\n",
       "      <td>C29339</td>\n",
       "      <td>Low</td>\n",
       "      <td>2</td>\n",
       "      <td>1</td>\n",
       "      <td>1</td>\n",
       "      <td>23</td>\n",
       "      <td>233.25</td>\n",
       "    </tr>\n",
       "    <tr>\n",
       "      <th>4</th>\n",
       "      <td>C30598</td>\n",
       "      <td>Low</td>\n",
       "      <td>2</td>\n",
       "      <td>0</td>\n",
       "      <td>1</td>\n",
       "      <td>22</td>\n",
       "      <td>1271.06</td>\n",
       "    </tr>\n",
       "  </tbody>\n",
       "</table>\n",
       "</div>"
      ],
      "text/plain": [
       "  CustomerId CustomerValue  Familysize  Male  Married  Age  Total Price\n",
       "0     C22981          High           4     0        1   28      1237.85\n",
       "1     C28576           Low           3     0        1   27       961.52\n",
       "2     C23809           Low           2     0        1   19       408.90\n",
       "3     C29339           Low           2     1        1   23       233.25\n",
       "4     C30598           Low           2     0        1   22      1271.06"
      ]
     },
     "execution_count": 40,
     "metadata": {},
     "output_type": "execute_result"
    }
   ],
   "source": [
    "df_train = pd.merge(train, df_train, on = ['CustomerId'])\n",
    "df_train.head()"
   ]
  },
  {
   "cell_type": "code",
   "execution_count": 41,
   "metadata": {},
   "outputs": [
    {
     "data": {
      "text/plain": [
       "(3315, 7)"
      ]
     },
     "execution_count": 41,
     "metadata": {},
     "output_type": "execute_result"
    }
   ],
   "source": [
    "df_train.shape"
   ]
  },
  {
   "cell_type": "code",
   "execution_count": 42,
   "metadata": {},
   "outputs": [
    {
     "data": {
      "text/plain": [
       "CustomerId        object\n",
       "CustomerValue     object\n",
       "Familysize         int64\n",
       "Male               uint8\n",
       "Married            uint8\n",
       "Age                int64\n",
       "Total Price      float64\n",
       "dtype: object"
      ]
     },
     "execution_count": 42,
     "metadata": {},
     "output_type": "execute_result"
    }
   ],
   "source": [
    "df_train.dtypes"
   ]
  },
  {
   "cell_type": "code",
   "execution_count": 67,
   "metadata": {},
   "outputs": [
    {
     "name": "stdout",
     "output_type": "stream",
     "text": [
      "  CustomerId CustomerValue  Familysize  Male  Married  Age  Total Price\n",
      "0     C22981          High           4     0        1   28      1237.85\n",
      "1     C28576           Low           3     0        1   27       961.52\n",
      "2     C23809           Low           2     0        1   19       408.90\n",
      "3     C29339           Low           2     1        1   23       233.25\n",
      "4     C30598           Low           2     0        1   22      1271.06\n"
     ]
    }
   ],
   "source": [
    "print(df_train.head())"
   ]
  },
  {
   "cell_type": "code",
   "execution_count": 43,
   "metadata": {},
   "outputs": [
    {
     "data": {
      "text/plain": [
       "Low       1415\n",
       "Medium    1116\n",
       "High       784\n",
       "Name: CustomerValue, dtype: int64"
      ]
     },
     "execution_count": 43,
     "metadata": {},
     "output_type": "execute_result"
    }
   ],
   "source": [
    "df_train['CustomerValue'].value_counts() #checking the values in target column"
   ]
  },
  {
   "cell_type": "code",
   "execution_count": 44,
   "metadata": {},
   "outputs": [
    {
     "data": {
      "text/plain": [
       "<matplotlib.axes._subplots.AxesSubplot at 0x28bac3c5cc0>"
      ]
     },
     "execution_count": 44,
     "metadata": {},
     "output_type": "execute_result"
    },
    {
     "data": {
      "image/png": "[encoded data removed]",
      "text/plain": [
       "<Figure size 432x288 with 1 Axes>"
      ]
     },
     "metadata": {
      "needs_background": "light"
     },
     "output_type": "display_data"
    }
   ],
   "source": [
    "df_train['CustomerValue'].value_counts().plot.bar()"
   ]
  },
  {
   "cell_type": "markdown",
   "metadata": {},
   "source": [
    "#### Numerical values in dataset"
   ]
  },
  {
   "cell_type": "code",
   "execution_count": 45,
   "metadata": {},
   "outputs": [
    {
     "data": {
      "text/html": [
       "<div>\n",
       "<style scoped>\n",
       "    .dataframe tbody tr th:only-of-type {\n",
       "        vertical-align: middle;\n",
       "    }\n",
       "\n",
       "    .dataframe tbody tr th {\n",
       "        vertical-align: top;\n",
       "    }\n",
       "\n",
       "    .dataframe thead th {\n",
       "        text-align: right;\n",
       "    }\n",
       "</style>\n",
       "<table border=\"1\" class=\"dataframe\">\n",
       "  <thead>\n",
       "    <tr style=\"text-align: right;\">\n",
       "      <th></th>\n",
       "      <th>Age</th>\n",
       "      <th>Total Price</th>\n",
       "    </tr>\n",
       "  </thead>\n",
       "  <tbody>\n",
       "    <tr>\n",
       "      <th>0</th>\n",
       "      <td>28</td>\n",
       "      <td>1237.85</td>\n",
       "    </tr>\n",
       "    <tr>\n",
       "      <th>1</th>\n",
       "      <td>27</td>\n",
       "      <td>961.52</td>\n",
       "    </tr>\n",
       "    <tr>\n",
       "      <th>2</th>\n",
       "      <td>19</td>\n",
       "      <td>408.90</td>\n",
       "    </tr>\n",
       "    <tr>\n",
       "      <th>3</th>\n",
       "      <td>23</td>\n",
       "      <td>233.25</td>\n",
       "    </tr>\n",
       "    <tr>\n",
       "      <th>4</th>\n",
       "      <td>22</td>\n",
       "      <td>1271.06</td>\n",
       "    </tr>\n",
       "  </tbody>\n",
       "</table>\n",
       "</div>"
      ],
      "text/plain": [
       "   Age  Total Price\n",
       "0   28      1237.85\n",
       "1   27       961.52\n",
       "2   19       408.90\n",
       "3   23       233.25\n",
       "4   22      1271.06"
      ]
     },
     "execution_count": 45,
     "metadata": {},
     "output_type": "execute_result"
    }
   ],
   "source": [
    "df_train_num = df_train.loc[:,['Age','Total Price']]\n",
    "df_train_num.head()"
   ]
  },
  {
   "cell_type": "markdown",
   "metadata": {},
   "source": [
    "#### Categorical values in dataset"
   ]
  },
  {
   "cell_type": "code",
   "execution_count": 46,
   "metadata": {},
   "outputs": [
    {
     "data": {
      "text/html": [
       "<div>\n",
       "<style scoped>\n",
       "    .dataframe tbody tr th:only-of-type {\n",
       "        vertical-align: middle;\n",
       "    }\n",
       "\n",
       "    .dataframe tbody tr th {\n",
       "        vertical-align: top;\n",
       "    }\n",
       "\n",
       "    .dataframe thead th {\n",
       "        text-align: right;\n",
       "    }\n",
       "</style>\n",
       "<table border=\"1\" class=\"dataframe\">\n",
       "  <thead>\n",
       "    <tr style=\"text-align: right;\">\n",
       "      <th></th>\n",
       "      <th>CustomerId</th>\n",
       "      <th>Familysize</th>\n",
       "      <th>Married</th>\n",
       "      <th>Male</th>\n",
       "      <th>CustomerValue</th>\n",
       "    </tr>\n",
       "  </thead>\n",
       "  <tbody>\n",
       "    <tr>\n",
       "      <th>0</th>\n",
       "      <td>C22981</td>\n",
       "      <td>4</td>\n",
       "      <td>1</td>\n",
       "      <td>0</td>\n",
       "      <td>High</td>\n",
       "    </tr>\n",
       "    <tr>\n",
       "      <th>1</th>\n",
       "      <td>C28576</td>\n",
       "      <td>3</td>\n",
       "      <td>1</td>\n",
       "      <td>0</td>\n",
       "      <td>Low</td>\n",
       "    </tr>\n",
       "    <tr>\n",
       "      <th>2</th>\n",
       "      <td>C23809</td>\n",
       "      <td>2</td>\n",
       "      <td>1</td>\n",
       "      <td>0</td>\n",
       "      <td>Low</td>\n",
       "    </tr>\n",
       "    <tr>\n",
       "      <th>3</th>\n",
       "      <td>C29339</td>\n",
       "      <td>2</td>\n",
       "      <td>1</td>\n",
       "      <td>1</td>\n",
       "      <td>Low</td>\n",
       "    </tr>\n",
       "    <tr>\n",
       "      <th>4</th>\n",
       "      <td>C30598</td>\n",
       "      <td>2</td>\n",
       "      <td>1</td>\n",
       "      <td>0</td>\n",
       "      <td>Low</td>\n",
       "    </tr>\n",
       "  </tbody>\n",
       "</table>\n",
       "</div>"
      ],
      "text/plain": [
       "  CustomerId  Familysize  Married  Male CustomerValue\n",
       "0     C22981           4        1     0          High\n",
       "1     C28576           3        1     0           Low\n",
       "2     C23809           2        1     0           Low\n",
       "3     C29339           2        1     1           Low\n",
       "4     C30598           2        1     0           Low"
      ]
     },
     "execution_count": 46,
     "metadata": {},
     "output_type": "execute_result"
    }
   ],
   "source": [
    "df_train_cat = df_train.loc[:,['CustomerId','Familysize', 'Married', 'Male', 'CustomerValue']]\n",
    "df_train_cat.head()"
   ]
  },
  {
   "cell_type": "markdown",
   "metadata": {},
   "source": [
    "### Scaling Using MinMaxScaler for numerical datas"
   ]
  },
  {
   "cell_type": "code",
   "execution_count": 52,
   "metadata": {},
   "outputs": [],
   "source": [
    "# Standardize = StandardScaler()\n",
    "# df_train_num_scaled=Standardize.fit_transform(df_train_num)\n",
    "# df_train_num_scaled=pd.DataFrame(df_train_num_scaled)"
   ]
  },
  {
   "cell_type": "code",
   "execution_count": 53,
   "metadata": {},
   "outputs": [],
   "source": [
    "# df_train_num_scaled.head()"
   ]
  },
  {
   "cell_type": "code",
   "execution_count": 54,
   "metadata": {},
   "outputs": [],
   "source": [
    "#Scaling using MinMaxScaler for train dataset\n",
    "from sklearn.preprocessing import MinMaxScaler\n",
    "scaler = MinMaxScaler()\n",
    "\n",
    "scaler.fit(df_train_num[['Total Price']])\n",
    "df_train_num['Total Price'] = scaler.transform(df_train_num[['Total Price']])\n",
    "\n",
    "scaler.fit(df_train_num[['Age']])\n",
    "df_train_num['Age'] = scaler.transform(df_train_num[['Age']])"
   ]
  },
  {
   "cell_type": "code",
   "execution_count": 55,
   "metadata": {},
   "outputs": [
    {
     "data": {
      "text/html": [
       "<div>\n",
       "<style scoped>\n",
       "    .dataframe tbody tr th:only-of-type {\n",
       "        vertical-align: middle;\n",
       "    }\n",
       "\n",
       "    .dataframe tbody tr th {\n",
       "        vertical-align: top;\n",
       "    }\n",
       "\n",
       "    .dataframe thead th {\n",
       "        text-align: right;\n",
       "    }\n",
       "</style>\n",
       "<table border=\"1\" class=\"dataframe\">\n",
       "  <thead>\n",
       "    <tr style=\"text-align: right;\">\n",
       "      <th></th>\n",
       "      <th>Age</th>\n",
       "      <th>Total Price</th>\n",
       "    </tr>\n",
       "  </thead>\n",
       "  <tbody>\n",
       "    <tr>\n",
       "      <th>0</th>\n",
       "      <td>0.157143</td>\n",
       "      <td>0.004600</td>\n",
       "    </tr>\n",
       "    <tr>\n",
       "      <th>1</th>\n",
       "      <td>0.142857</td>\n",
       "      <td>0.003571</td>\n",
       "    </tr>\n",
       "    <tr>\n",
       "      <th>2</th>\n",
       "      <td>0.028571</td>\n",
       "      <td>0.001512</td>\n",
       "    </tr>\n",
       "    <tr>\n",
       "      <th>3</th>\n",
       "      <td>0.085714</td>\n",
       "      <td>0.000858</td>\n",
       "    </tr>\n",
       "    <tr>\n",
       "      <th>4</th>\n",
       "      <td>0.071429</td>\n",
       "      <td>0.004724</td>\n",
       "    </tr>\n",
       "  </tbody>\n",
       "</table>\n",
       "</div>"
      ],
      "text/plain": [
       "        Age  Total Price\n",
       "0  0.157143     0.004600\n",
       "1  0.142857     0.003571\n",
       "2  0.028571     0.001512\n",
       "3  0.085714     0.000858\n",
       "4  0.071429     0.004724"
      ]
     },
     "execution_count": 55,
     "metadata": {},
     "output_type": "execute_result"
    }
   ],
   "source": [
    "df_train_num.head()"
   ]
  },
  {
   "cell_type": "code",
   "execution_count": 57,
   "metadata": {},
   "outputs": [
    {
     "data": {
      "text/html": [
       "<div>\n",
       "<style scoped>\n",
       "    .dataframe tbody tr th:only-of-type {\n",
       "        vertical-align: middle;\n",
       "    }\n",
       "\n",
       "    .dataframe tbody tr th {\n",
       "        vertical-align: top;\n",
       "    }\n",
       "\n",
       "    .dataframe thead th {\n",
       "        text-align: right;\n",
       "    }\n",
       "</style>\n",
       "<table border=\"1\" class=\"dataframe\">\n",
       "  <thead>\n",
       "    <tr style=\"text-align: right;\">\n",
       "      <th></th>\n",
       "      <th>Age</th>\n",
       "      <th>Total Price</th>\n",
       "      <th>CustomerId</th>\n",
       "      <th>Familysize</th>\n",
       "      <th>Married</th>\n",
       "      <th>Male</th>\n",
       "      <th>CustomerValue</th>\n",
       "    </tr>\n",
       "  </thead>\n",
       "  <tbody>\n",
       "    <tr>\n",
       "      <th>0</th>\n",
       "      <td>0.157143</td>\n",
       "      <td>0.004600</td>\n",
       "      <td>C22981</td>\n",
       "      <td>4</td>\n",
       "      <td>1</td>\n",
       "      <td>0</td>\n",
       "      <td>High</td>\n",
       "    </tr>\n",
       "    <tr>\n",
       "      <th>1</th>\n",
       "      <td>0.142857</td>\n",
       "      <td>0.003571</td>\n",
       "      <td>C28576</td>\n",
       "      <td>3</td>\n",
       "      <td>1</td>\n",
       "      <td>0</td>\n",
       "      <td>Low</td>\n",
       "    </tr>\n",
       "    <tr>\n",
       "      <th>2</th>\n",
       "      <td>0.028571</td>\n",
       "      <td>0.001512</td>\n",
       "      <td>C23809</td>\n",
       "      <td>2</td>\n",
       "      <td>1</td>\n",
       "      <td>0</td>\n",
       "      <td>Low</td>\n",
       "    </tr>\n",
       "    <tr>\n",
       "      <th>3</th>\n",
       "      <td>0.085714</td>\n",
       "      <td>0.000858</td>\n",
       "      <td>C29339</td>\n",
       "      <td>2</td>\n",
       "      <td>1</td>\n",
       "      <td>1</td>\n",
       "      <td>Low</td>\n",
       "    </tr>\n",
       "    <tr>\n",
       "      <th>4</th>\n",
       "      <td>0.071429</td>\n",
       "      <td>0.004724</td>\n",
       "      <td>C30598</td>\n",
       "      <td>2</td>\n",
       "      <td>1</td>\n",
       "      <td>0</td>\n",
       "      <td>Low</td>\n",
       "    </tr>\n",
       "  </tbody>\n",
       "</table>\n",
       "</div>"
      ],
      "text/plain": [
       "        Age  Total Price CustomerId  Familysize  Married  Male CustomerValue\n",
       "0  0.157143     0.004600     C22981           4        1     0          High\n",
       "1  0.142857     0.003571     C28576           3        1     0           Low\n",
       "2  0.028571     0.001512     C23809           2        1     0           Low\n",
       "3  0.085714     0.000858     C29339           2        1     1           Low\n",
       "4  0.071429     0.004724     C30598           2        1     0           Low"
      ]
     },
     "execution_count": 57,
     "metadata": {},
     "output_type": "execute_result"
    }
   ],
   "source": [
    "df_train_final = pd.concat([df_train_num, df_train_cat], axis = 1)\n",
    "df_train_final.head() #This is the final train dataset"
   ]
  },
  {
   "cell_type": "markdown",
   "metadata": {},
   "source": [
    "### Splitting the data"
   ]
  },
  {
   "cell_type": "code",
   "execution_count": 58,
   "metadata": {},
   "outputs": [],
   "source": [
    "X = df_train_final.drop(['CustomerValue', 'CustomerId'], axis = 1) #independent variable\n",
    "Y = df_train_final['CustomerValue'] #dependent variable"
   ]
  },
  {
   "cell_type": "code",
   "execution_count": 59,
   "metadata": {},
   "outputs": [],
   "source": [
    "X_train, X_test, Y_train, Y_test = train_test_split(X, Y, test_size = 0.30, random_state = 100) #splitting the dataset into train and test in the ratio 70:30"
   ]
  },
  {
   "cell_type": "code",
   "execution_count": 60,
   "metadata": {},
   "outputs": [
    {
     "name": "stdout",
     "output_type": "stream",
     "text": [
      "(2320, 5)\n",
      "(995, 5)\n",
      "(2320,)\n",
      "(995,)\n"
     ]
    }
   ],
   "source": [
    "print(X_train.shape) #ckecking the shape\n",
    "print(X_test.shape)\n",
    "print(Y_train.shape)\n",
    "print(Y_test.shape)"
   ]
  },
  {
   "cell_type": "markdown",
   "metadata": {},
   "source": [
    "## Building Models"
   ]
  },
  {
   "cell_type": "markdown",
   "metadata": {},
   "source": [
    "### Logistic Regression"
   ]
  },
  {
   "cell_type": "code",
   "execution_count": 63,
   "metadata": {},
   "outputs": [
    {
     "data": {
      "text/plain": [
       "array(['Medium', 'Low', 'Medium', 'Low', 'Low', 'Medium', 'Low', 'Low',\n",
       "       'Low', 'Medium', 'High', 'Low', 'Medium', 'Medium', 'Low', 'Low',\n",
       "       'Low', 'Medium', 'Low', 'Medium', 'Low', 'High', 'Medium',\n",
       "       'Medium', 'Medium', 'Low', 'Medium', 'Medium', 'Low', 'Medium',\n",
       "       'Low', 'Low', 'Low', 'Medium', 'Medium', 'Low', 'Low', 'Medium',\n",
       "       'Medium', 'Low', 'High', 'Medium', 'Low', 'Low', 'Low', 'Medium',\n",
       "       'Low', 'Medium', 'Medium', 'Low', 'Low', 'Medium', 'Medium',\n",
       "       'High', 'Low', 'Low', 'Medium', 'Low', 'Low', 'Low', 'Medium',\n",
       "       'Low', 'High', 'High', 'Low', 'High', 'Medium', 'High', 'Low',\n",
       "       'Low', 'High', 'Medium', 'Low', 'Low', 'Low', 'Low', 'Low',\n",
       "       'Medium', 'Low', 'Low', 'Low', 'Low', 'Medium', 'Low', 'High',\n",
       "       'High', 'Low', 'Medium', 'Low', 'High', 'Low', 'Medium', 'Medium',\n",
       "       'Low', 'Low', 'Medium', 'Low', 'Medium', 'Medium', 'Low', 'Low',\n",
       "       'Low', 'Low', 'Low', 'Medium', 'Low', 'Low', 'High', 'High', 'Low',\n",
       "       'Medium', 'Medium', 'Low', 'High', 'Low', 'Low', 'Low', 'Low',\n",
       "       'Low', 'Medium', 'Low', 'Medium', 'Low', 'Medium', 'Medium', 'Low',\n",
       "       'Low', 'Low', 'Medium', 'Low', 'Low', 'Low', 'Medium', 'Low',\n",
       "       'Medium', 'Medium', 'Medium', 'Low', 'Medium', 'Medium', 'Low',\n",
       "       'Low', 'Low', 'High', 'Medium', 'Medium', 'Medium', 'Medium',\n",
       "       'Low', 'Low', 'Medium', 'Medium', 'Low', 'Low', 'Low', 'Low',\n",
       "       'High', 'Medium', 'Low', 'Medium', 'Medium', 'Low', 'High', 'Low',\n",
       "       'Medium', 'Low', 'Medium', 'Medium', 'Low', 'High', 'High', 'Low',\n",
       "       'Low', 'Medium', 'Low', 'Medium', 'Low', 'High', 'Medium', 'High',\n",
       "       'Medium', 'High', 'Low', 'Medium', 'Medium', 'Medium', 'Low',\n",
       "       'Low', 'Low', 'Medium', 'Low', 'Low', 'Medium', 'Low', 'Medium',\n",
       "       'Medium', 'Medium', 'Medium', 'Medium', 'Medium', 'Low', 'Low',\n",
       "       'Medium', 'Low', 'Medium', 'Medium', 'Medium', 'Medium', 'Low',\n",
       "       'Low', 'Medium', 'Low', 'Medium', 'Medium', 'Low', 'Low', 'High',\n",
       "       'Low', 'High', 'Medium', 'Medium', 'Medium', 'Low', 'Medium',\n",
       "       'High', 'Medium', 'Low', 'Medium', 'High', 'Low', 'Low', 'Medium',\n",
       "       'Low', 'High', 'Medium', 'Medium', 'High', 'Low', 'Low', 'Low',\n",
       "       'Medium', 'Low', 'Low', 'Low', 'High', 'Low', 'Low', 'Low', 'Low',\n",
       "       'High', 'Medium', 'Medium', 'Medium', 'Low', 'Medium', 'Low',\n",
       "       'Low', 'High', 'Medium', 'Low', 'Low', 'Low', 'Medium', 'High',\n",
       "       'High', 'Low', 'Low', 'Low', 'High', 'Low', 'Low', 'Low', 'Low',\n",
       "       'High', 'Low', 'Low', 'High', 'Medium', 'Medium', 'Medium', 'Low',\n",
       "       'High', 'Medium', 'Low', 'Medium', 'Medium', 'Medium', 'Low',\n",
       "       'Medium', 'Low', 'High', 'Medium', 'Low', 'Medium', 'High',\n",
       "       'Medium', 'Low', 'Low', 'Medium', 'Medium', 'Low', 'Low', 'Low',\n",
       "       'High', 'Low', 'High', 'Medium', 'Medium', 'High', 'Low', 'Medium',\n",
       "       'Medium', 'Medium', 'High', 'Low', 'High', 'Low', 'Low', 'Medium',\n",
       "       'Low', 'Low', 'Low', 'Low', 'Low', 'Low', 'Medium', 'Low', 'High',\n",
       "       'Low', 'High', 'Low', 'Medium', 'Medium', 'Low', 'Low', 'Medium',\n",
       "       'Low', 'Low', 'Medium', 'Low', 'Low', 'High', 'Medium', 'Medium',\n",
       "       'Low', 'High', 'Low', 'Low', 'Low', 'Medium', 'Medium', 'Low',\n",
       "       'Medium', 'Medium', 'Low', 'Low', 'Medium', 'Medium', 'High',\n",
       "       'High', 'Medium', 'Low', 'Low', 'Medium', 'Medium', 'Medium',\n",
       "       'Low', 'Low', 'Low', 'Medium', 'Medium', 'Low', 'High', 'High',\n",
       "       'Low', 'High', 'Low', 'Low', 'Low', 'Low', 'Low', 'Low', 'Medium',\n",
       "       'Medium', 'Low', 'Medium', 'High', 'Low', 'Low', 'High', 'Low',\n",
       "       'Medium', 'Low', 'Low', 'Medium', 'High', 'Medium', 'Low', 'Low',\n",
       "       'Medium', 'Medium', 'Low', 'Low', 'Low', 'High', 'Low', 'Low',\n",
       "       'Low', 'Low', 'High', 'Medium', 'Medium', 'Low', 'Medium',\n",
       "       'Medium', 'Low', 'Low', 'Low', 'Low', 'Low', 'Low', 'Medium',\n",
       "       'Medium', 'Low', 'Low', 'High', 'Low', 'Medium', 'Low', 'Medium',\n",
       "       'High', 'Medium', 'Low', 'Medium', 'Low', 'Low', 'Low', 'Low',\n",
       "       'Low', 'Low', 'Medium', 'Low', 'Medium', 'Low', 'Medium', 'Low',\n",
       "       'Low', 'High', 'Medium', 'Medium', 'Low', 'Low', 'High', 'Low',\n",
       "       'Low', 'Low', 'High', 'Medium', 'Medium', 'High', 'Low', 'Low',\n",
       "       'Medium', 'Low', 'Medium', 'Low', 'Low', 'Low', 'Low', 'Low',\n",
       "       'Low', 'Low', 'Medium', 'Medium', 'Medium', 'Medium', 'Low', 'Low',\n",
       "       'Medium', 'Low', 'Medium', 'Medium', 'Low', 'Low', 'High',\n",
       "       'Medium', 'Low', 'Low', 'Medium', 'Low', 'Low', 'Low', 'Low',\n",
       "       'Medium', 'Low', 'Low', 'Low', 'Low', 'Medium', 'Low', 'Medium',\n",
       "       'Low', 'Low', 'Low', 'Medium', 'Low', 'Medium', 'Medium', 'Low',\n",
       "       'Low', 'Medium', 'Low', 'High', 'High', 'Medium', 'Medium', 'High',\n",
       "       'Low', 'Low', 'Low', 'High', 'Low', 'Medium', 'Medium', 'Medium',\n",
       "       'Low', 'Medium', 'Medium', 'Medium', 'Low', 'Medium', 'Low', 'Low',\n",
       "       'High', 'Medium', 'Low', 'High', 'Low', 'Low', 'Low', 'Low', 'Low',\n",
       "       'Low', 'High', 'Low', 'Medium', 'Low', 'Low', 'Low', 'High', 'Low',\n",
       "       'Medium', 'Low', 'Low', 'Medium', 'Low', 'Low', 'Low', 'High',\n",
       "       'Medium', 'Medium', 'Low', 'Low', 'Medium', 'Low', 'High',\n",
       "       'Medium', 'Medium', 'Low', 'Medium', 'Medium', 'Low', 'Medium',\n",
       "       'Low', 'Low', 'Medium', 'Low', 'Medium', 'Low', 'Low', 'Low',\n",
       "       'Low', 'High', 'High', 'High', 'Low', 'Low', 'Medium', 'Low',\n",
       "       'Low', 'Medium', 'Low', 'High', 'Low', 'High', 'Low', 'Low', 'Low',\n",
       "       'Low', 'Medium', 'Medium', 'High', 'Medium', 'Medium', 'Medium',\n",
       "       'Low', 'Low', 'High', 'Low', 'Low', 'Low', 'Low', 'Low', 'Medium',\n",
       "       'Low', 'Low', 'Low', 'Low', 'Low', 'Low', 'Low', 'Medium', 'Low',\n",
       "       'Medium', 'Medium', 'Low', 'Medium', 'High', 'High', 'Low', 'Low',\n",
       "       'Low', 'Medium', 'High', 'Low', 'High', 'High', 'High', 'Low',\n",
       "       'Medium', 'High', 'Low', 'High', 'Low', 'Low', 'High', 'Medium',\n",
       "       'Medium', 'High', 'Medium', 'Low', 'Low', 'Low', 'Medium',\n",
       "       'Medium', 'Medium', 'Low', 'Low', 'Low', 'Medium', 'Medium', 'Low',\n",
       "       'Medium', 'Low', 'Medium', 'Medium', 'Low', 'High', 'High', 'Low',\n",
       "       'Low', 'Low', 'Low', 'Low', 'Low', 'Low', 'Low', 'Low', 'Low',\n",
       "       'Medium', 'Low', 'Medium', 'Low', 'Medium', 'Medium', 'Medium',\n",
       "       'Low', 'Medium', 'Medium', 'Low', 'Low', 'Medium', 'Low', 'Low',\n",
       "       'Low', 'Medium', 'Low', 'Low', 'Low', 'Low', 'Low', 'Low', 'Low',\n",
       "       'High', 'Low', 'Medium', 'Low', 'High', 'High', 'High', 'Low',\n",
       "       'Medium', 'Low', 'High', 'Medium', 'Low', 'Low', 'High', 'Low',\n",
       "       'Low', 'Low', 'Low', 'Low', 'Low', 'Medium', 'Low', 'Low',\n",
       "       'Medium', 'Medium', 'Low', 'Low', 'High', 'Medium', 'Low', 'Low',\n",
       "       'Low', 'Low', 'Low', 'Medium', 'Medium', 'Medium', 'High',\n",
       "       'Medium', 'Medium', 'High', 'Low', 'Medium', 'Low', 'Low', 'Low',\n",
       "       'Medium', 'Low', 'Low', 'Medium', 'High', 'Low', 'Medium',\n",
       "       'Medium', 'Low', 'Medium', 'Low', 'High', 'Medium', 'Low', 'Low',\n",
       "       'High', 'High', 'Medium', 'Medium', 'Medium', 'Low', 'Medium',\n",
       "       'Medium', 'Medium', 'Low', 'Low', 'High', 'Medium', 'Medium',\n",
       "       'Low', 'Low', 'Low', 'Medium', 'Low', 'Medium', 'Medium', 'Medium',\n",
       "       'Low', 'Medium', 'Low', 'Low', 'High', 'Medium', 'Low', 'High',\n",
       "       'Low', 'Medium', 'Low', 'Low', 'Low', 'High', 'Medium', 'Low',\n",
       "       'Low', 'Low', 'Low', 'Low', 'Low', 'Low', 'Low', 'Low', 'High',\n",
       "       'Medium', 'Low', 'High', 'Low', 'Low', 'Low', 'Low', 'Low', 'Low',\n",
       "       'Medium', 'High', 'High', 'High', 'Low', 'Low', 'Low', 'Medium',\n",
       "       'Medium', 'Low', 'Low', 'Low', 'Low', 'Medium', 'High', 'Low',\n",
       "       'Low', 'High', 'High', 'Low', 'Medium', 'High', 'Low', 'Medium',\n",
       "       'Medium', 'Medium', 'Low', 'Medium', 'Low', 'Medium', 'Medium',\n",
       "       'Medium', 'Low', 'Medium', 'Low', 'Medium', 'Medium', 'Low', 'Low',\n",
       "       'Medium', 'Low', 'Medium', 'Medium', 'Medium', 'Low', 'Low',\n",
       "       'Medium', 'Low', 'High', 'Low', 'Medium', 'Medium', 'Medium',\n",
       "       'Low', 'Medium', 'High', 'Medium', 'Low', 'Medium', 'Low', 'High',\n",
       "       'Low', 'Low', 'Medium', 'Low', 'Low', 'Medium', 'Medium', 'Medium',\n",
       "       'Low', 'Low', 'Low', 'Medium', 'Medium', 'Low', 'Low', 'Medium',\n",
       "       'High', 'High', 'Low', 'High', 'High', 'Low', 'Medium', 'Low',\n",
       "       'Medium', 'High', 'Low', 'Medium', 'Low', 'Medium', 'Medium',\n",
       "       'Medium', 'High', 'High', 'Low', 'Medium', 'Medium', 'Low',\n",
       "       'Medium', 'High', 'Medium', 'Medium', 'Low', 'High', 'Low', 'Low',\n",
       "       'Low', 'Low', 'High', 'High', 'Low', 'Low', 'Low', 'Medium', 'Low',\n",
       "       'Low', 'Low', 'Low', 'High', 'Low', 'Low', 'High', 'Low', 'Medium',\n",
       "       'Medium', 'Medium', 'Low', 'Medium', 'Low', 'Low', 'Low', 'Low',\n",
       "       'Medium', 'Medium', 'Medium', 'Low', 'High', 'Low', 'High', 'Low',\n",
       "       'High', 'Medium', 'Medium', 'Low', 'Low', 'Low', 'Low', 'Medium',\n",
       "       'High', 'Low', 'High', 'Low', 'Medium', 'Medium', 'Medium', 'Low',\n",
       "       'Medium', 'Low', 'Medium', 'Low', 'Low', 'Low', 'Low', 'High',\n",
       "       'Low', 'Low', 'Low', 'Medium', 'Medium', 'Low', 'Low', 'Low',\n",
       "       'Medium'], dtype=object)"
      ]
     },
     "execution_count": 63,
     "metadata": {},
     "output_type": "execute_result"
    }
   ],
   "source": [
    "Lr1=LogisticRegression(multi_class='multinomial',solver='lbfgs') #its a multinomial classification problem\n",
    "Lr1.fit(X_train,Y_train) #fitting in train data\n",
    "pred_Lr=Lr1.predict(X_test)\n",
    "pred_Lr #prediction on test data"
   ]
  },
  {
   "cell_type": "markdown",
   "metadata": {},
   "source": [
    "#### Displaying Accuracy and classification report"
   ]
  },
  {
   "cell_type": "code",
   "execution_count": 64,
   "metadata": {},
   "outputs": [
    {
     "name": "stdout",
     "output_type": "stream",
     "text": [
      "Accuracy on train data: 0.5457286432160804\n",
      "classification_report :                precision    recall  f1-score   support\n",
      "\n",
      "        High       0.50      0.29      0.37       244\n",
      "         Low       0.65      0.79      0.71       420\n",
      "      Medium       0.41      0.42      0.42       331\n",
      "\n",
      "   micro avg       0.55      0.55      0.55       995\n",
      "   macro avg       0.52      0.50      0.50       995\n",
      "weighted avg       0.53      0.55      0.53       995\n",
      "\n"
     ]
    }
   ],
   "source": [
    "from sklearn.metrics import accuracy_score, classification_report\n",
    "score = accuracy_score(Y_test,pred_Lr)\n",
    "print('Accuracy on train data:',score)\n",
    "print(\"classification_report : \",classification_report(Y_test,pred_Lr))"
   ]
  },
  {
   "cell_type": "markdown",
   "metadata": {},
   "source": [
    "### Naive Bayes classifier"
   ]
  },
  {
   "cell_type": "code",
   "execution_count": 65,
   "metadata": {},
   "outputs": [
    {
     "data": {
      "text/plain": [
       "array(['Low', 'Low', 'Medium', 'Low', 'Low', 'Low', 'Low', 'Low', 'Low',\n",
       "       'Medium', 'Medium', 'Low', 'Low', 'Medium', 'Low', 'Low', 'Low',\n",
       "       'Low', 'Low', 'Medium', 'Low', 'Medium', 'Medium', 'Medium',\n",
       "       'Medium', 'Low', 'Medium', 'Medium', 'Low', 'Medium', 'Low',\n",
       "       'High', 'Low', 'Low', 'Medium', 'Low', 'Low', 'Low', 'Medium',\n",
       "       'Low', 'Medium', 'Medium', 'Low', 'Low', 'Low', 'Medium', 'Low',\n",
       "       'Medium', 'Low', 'Low', 'Low', 'Low', 'Medium', 'Medium', 'Low',\n",
       "       'High', 'Medium', 'Low', 'Low', 'Low', 'Medium', 'Low', 'Medium',\n",
       "       'Medium', 'Low', 'Medium', 'Medium', 'Medium', 'Low', 'Low',\n",
       "       'Medium', 'Medium', 'Low', 'Low', 'Low', 'Low', 'Low', 'Medium',\n",
       "       'Low', 'Low', 'Low', 'Low', 'Medium', 'Low', 'Medium', 'High',\n",
       "       'Low', 'Medium', 'Low', 'High', 'Low', 'Low', 'Low', 'Low', 'Low',\n",
       "       'Low', 'Low', 'Medium', 'Low', 'Low', 'Low', 'Low', 'Low', 'Low',\n",
       "       'Medium', 'Low', 'Low', 'Medium', 'Medium', 'Low', 'Medium',\n",
       "       'Medium', 'Low', 'Medium', 'Low', 'Low', 'Low', 'High', 'Low',\n",
       "       'Medium', 'Low', 'Medium', 'Low', 'Medium', 'Low', 'Low', 'Low',\n",
       "       'Low', 'Medium', 'Low', 'Low', 'Low', 'Low', 'Low', 'Medium',\n",
       "       'Medium', 'Low', 'Low', 'Medium', 'Medium', 'Low', 'Low', 'Low',\n",
       "       'Medium', 'Medium', 'Medium', 'Medium', 'Medium', 'High', 'Low',\n",
       "       'Low', 'Medium', 'Medium', 'Low', 'Low', 'Low', 'Medium', 'Medium',\n",
       "       'Low', 'Low', 'Medium', 'Low', 'Medium', 'Low', 'Medium', 'Low',\n",
       "       'Low', 'Medium', 'Low', 'Medium', 'Medium', 'Low', 'Low', 'Medium',\n",
       "       'Low', 'Low', 'Low', 'Medium', 'Medium', 'Medium', 'Medium',\n",
       "       'High', 'Low', 'Medium', 'Low', 'Low', 'High', 'Low', 'Low', 'Low',\n",
       "       'Low', 'Low', 'Medium', 'Low', 'Medium', 'Medium', 'Medium',\n",
       "       'Medium', 'Medium', 'Medium', 'Low', 'Low', 'Low', 'High',\n",
       "       'Medium', 'Medium', 'Medium', 'Low', 'Low', 'Low', 'Medium',\n",
       "       'High', 'High', 'Low', 'Low', 'Low', 'Medium', 'Low', 'Medium',\n",
       "       'Medium', 'Low', 'Medium', 'Low', 'Low', 'Medium', 'Medium', 'Low',\n",
       "       'Low', 'Medium', 'Low', 'Low', 'High', 'Low', 'Medium', 'Low',\n",
       "       'Medium', 'Medium', 'Low', 'Low', 'Low', 'Low', 'Low', 'Low',\n",
       "       'Low', 'Medium', 'Low', 'Low', 'Low', 'Low', 'Medium', 'Medium',\n",
       "       'Low', 'Medium', 'Low', 'Low', 'Low', 'Low', 'Medium', 'Medium',\n",
       "       'Low', 'Low', 'Low', 'Low', 'Medium', 'Medium', 'Low', 'Low',\n",
       "       'Low', 'Medium', 'Low', 'Low', 'Low', 'Low', 'Medium', 'Low',\n",
       "       'Low', 'Medium', 'Medium', 'Medium', 'Medium', 'Low', 'Medium',\n",
       "       'Medium', 'Low', 'Medium', 'Medium', 'Medium', 'Low', 'Medium',\n",
       "       'Low', 'Medium', 'Medium', 'High', 'Low', 'Medium', 'Low', 'Low',\n",
       "       'Low', 'Medium', 'Low', 'Low', 'Low', 'Low', 'High', 'Low', 'High',\n",
       "       'Medium', 'Medium', 'Medium', 'Low', 'Low', 'Low', 'Medium',\n",
       "       'Medium', 'Low', 'High', 'Low', 'Low', 'Medium', 'Low', 'Low',\n",
       "       'Low', 'Low', 'Low', 'Low', 'Medium', 'Low', 'Medium', 'Low',\n",
       "       'Medium', 'Low', 'Medium', 'Low', 'Low', 'Low', 'Low', 'Low',\n",
       "       'Low', 'Low', 'Low', 'Low', 'Medium', 'Low', 'Medium', 'Low',\n",
       "       'High', 'Low', 'Low', 'Low', 'Medium', 'Medium', 'Low', 'Medium',\n",
       "       'Low', 'Low', 'Low', 'Medium', 'Low', 'Medium', 'Medium', 'Low',\n",
       "       'Low', 'Low', 'Low', 'Medium', 'Medium', 'Low', 'Low', 'Low',\n",
       "       'Medium', 'Medium', 'Low', 'Medium', 'Medium', 'Low', 'Medium',\n",
       "       'Low', 'Low', 'Low', 'Low', 'Low', 'Low', 'Low', 'Low', 'Low',\n",
       "       'Low', 'Medium', 'Low', 'Low', 'Medium', 'Low', 'Medium', 'Low',\n",
       "       'Low', 'Medium', 'Medium', 'Medium', 'High', 'Low', 'Medium',\n",
       "       'Low', 'Low', 'Low', 'Low', 'Medium', 'Low', 'Low', 'Low', 'Low',\n",
       "       'Medium', 'Medium', 'Medium', 'Low', 'Medium', 'Medium', 'Low',\n",
       "       'Low', 'Low', 'High', 'Low', 'Low', 'Medium', 'Medium', 'Low',\n",
       "       'Low', 'Medium', 'Low', 'Medium', 'Low', 'Low', 'Medium', 'Medium',\n",
       "       'Low', 'Medium', 'Low', 'High', 'Low', 'Low', 'Low', 'Low',\n",
       "       'Medium', 'Low', 'Medium', 'Low', 'Low', 'Low', 'Low', 'Medium',\n",
       "       'Low', 'Medium', 'Low', 'Low', 'Medium', 'Low', 'Low', 'High',\n",
       "       'Medium', 'Medium', 'Medium', 'High', 'Low', 'Low', 'Low', 'Low',\n",
       "       'Medium', 'Low', 'Low', 'Low', 'Low', 'High', 'Low', 'Low',\n",
       "       'Medium', 'Medium', 'Low', 'Medium', 'Low', 'Low', 'Low', 'Low',\n",
       "       'Medium', 'Medium', 'Low', 'Low', 'Medium', 'Medium', 'Low', 'Low',\n",
       "       'Medium', 'Low', 'Low', 'Low', 'Low', 'Low', 'Low', 'Low', 'Low',\n",
       "       'Low', 'Medium', 'Low', 'Medium', 'Low', 'Low', 'Low', 'Medium',\n",
       "       'Low', 'Medium', 'Medium', 'Low', 'Low', 'Low', 'Low', 'Medium',\n",
       "       'Medium', 'Medium', 'Medium', 'Medium', 'Low', 'Low', 'Low',\n",
       "       'Medium', 'Low', 'Low', 'Low', 'Medium', 'Low', 'Medium', 'Medium',\n",
       "       'Low', 'Low', 'Medium', 'Low', 'Low', 'Medium', 'Low', 'Low',\n",
       "       'High', 'Low', 'Low', 'High', 'Low', 'Low', 'Low', 'Medium',\n",
       "       'High', 'Low', 'Low', 'Low', 'Low', 'High', 'High', 'Medium',\n",
       "       'Low', 'Low', 'Low', 'Low', 'Low', 'Low', 'Medium', 'Low',\n",
       "       'Medium', 'Low', 'Low', 'Low', 'Low', 'Medium', 'Medium', 'Low',\n",
       "       'Low', 'Medium', 'Medium', 'Low', 'Low', 'Medium', 'Low', 'Medium',\n",
       "       'Low', 'Medium', 'Low', 'High', 'Low', 'Low', 'Medium', 'Medium',\n",
       "       'Medium', 'Low', 'Low', 'Medium', 'Low', 'Low', 'Low', 'Low',\n",
       "       'Medium', 'Low', 'High', 'High', 'Low', 'Low', 'Low', 'Low', 'Low',\n",
       "       'Medium', 'Medium', 'Medium', 'Medium', 'Low', 'Low', 'Medium',\n",
       "       'Low', 'Low', 'Low', 'Low', 'Low', 'Medium', 'Low', 'Low', 'Low',\n",
       "       'Low', 'Low', 'Low', 'Low', 'Medium', 'Low', 'Medium', 'Medium',\n",
       "       'High', 'Medium', 'Medium', 'Medium', 'Low', 'Low', 'Low', 'Low',\n",
       "       'Medium', 'Low', 'Medium', 'Medium', 'Medium', 'Low', 'Medium',\n",
       "       'Medium', 'Low', 'Medium', 'Low', 'Low', 'Medium', 'Medium', 'Low',\n",
       "       'Medium', 'Medium', 'Low', 'Low', 'Low', 'Medium', 'Low', 'Low',\n",
       "       'Low', 'Low', 'Low', 'Medium', 'Medium', 'Low', 'Low', 'Low',\n",
       "       'Medium', 'Low', 'Low', 'Medium', 'Medium', 'Low', 'Low', 'Low',\n",
       "       'Low', 'Low', 'Low', 'Low', 'Low', 'Low', 'Low', 'Medium', 'High',\n",
       "       'Low', 'Low', 'Medium', 'Medium', 'Low', 'Low', 'Medium', 'Medium',\n",
       "       'Low', 'High', 'Low', 'Low', 'Low', 'Low', 'Medium', 'Low', 'Low',\n",
       "       'Low', 'Low', 'Low', 'Low', 'High', 'High', 'High', 'Medium',\n",
       "       'Low', 'High', 'High', 'Medium', 'Low', 'Medium', 'Low', 'Medium',\n",
       "       'Low', 'Low', 'Low', 'Medium', 'Low', 'Low', 'Low', 'Low', 'Low',\n",
       "       'Low', 'Medium', 'Low', 'Low', 'Medium', 'Medium', 'Low', 'Low',\n",
       "       'Medium', 'Medium', 'Low', 'Low', 'Low', 'Low', 'Low', 'Medium',\n",
       "       'Low', 'Medium', 'Medium', 'Low', 'Medium', 'Medium', 'Low',\n",
       "       'Medium', 'Low', 'Low', 'Low', 'Medium', 'Low', 'Low', 'Medium',\n",
       "       'Medium', 'Low', 'Low', 'High', 'Low', 'Medium', 'Low', 'Medium',\n",
       "       'Medium', 'Low', 'Low', 'High', 'High', 'Medium', 'Medium',\n",
       "       'Medium', 'Low', 'Low', 'Medium', 'Low', 'Low', 'Low', 'Medium',\n",
       "       'Medium', 'Medium', 'Low', 'Low', 'Low', 'Medium', 'Low', 'Medium',\n",
       "       'Low', 'Medium', 'Low', 'Medium', 'Low', 'Low', 'Medium', 'Medium',\n",
       "       'Low', 'Medium', 'Low', 'Medium', 'High', 'Low', 'Low', 'Medium',\n",
       "       'Low', 'High', 'Low', 'Low', 'Low', 'Low', 'Low', 'Low', 'Low',\n",
       "       'Low', 'Medium', 'Low', 'Low', 'Medium', 'Low', 'Low', 'Low',\n",
       "       'Low', 'Low', 'Low', 'Medium', 'Medium', 'Medium', 'Medium', 'Low',\n",
       "       'Low', 'Low', 'Medium', 'Medium', 'Low', 'Low', 'Low', 'Low',\n",
       "       'Low', 'Medium', 'Low', 'Low', 'Medium', 'High', 'Low', 'Medium',\n",
       "       'High', 'Low', 'Low', 'Low', 'Low', 'Low', 'Medium', 'Low',\n",
       "       'Medium', 'Medium', 'Low', 'Low', 'Medium', 'Low', 'Medium',\n",
       "       'Medium', 'Low', 'Low', 'Medium', 'Low', 'Low', 'Medium', 'Medium',\n",
       "       'Low', 'Low', 'Medium', 'Low', 'Medium', 'Low', 'Medium', 'Medium',\n",
       "       'Low', 'Low', 'Medium', 'High', 'Medium', 'Low', 'Medium', 'Low',\n",
       "       'Medium', 'Low', 'Low', 'Medium', 'Low', 'Low', 'Medium', 'Medium',\n",
       "       'Medium', 'Low', 'Low', 'Low', 'Low', 'Low', 'Low', 'Low', 'Low',\n",
       "       'Medium', 'Medium', 'Low', 'Medium', 'High', 'Low', 'Medium',\n",
       "       'Low', 'Low', 'Medium', 'Low', 'Low', 'Low', 'Medium', 'Medium',\n",
       "       'Medium', 'Medium', 'High', 'Low', 'Medium', 'Medium', 'Low',\n",
       "       'Low', 'Medium', 'Medium', 'Medium', 'Low', 'Medium', 'Low',\n",
       "       'High', 'Low', 'Low', 'Medium', 'Medium', 'Low', 'Low', 'Low',\n",
       "       'Medium', 'Low', 'Low', 'Low', 'Low', 'Medium', 'Low', 'Low',\n",
       "       'Medium', 'Low', 'Low', 'Medium', 'Low', 'Low', 'Medium', 'Low',\n",
       "       'Low', 'Low', 'Low', 'Medium', 'Medium', 'Medium', 'Low', 'Medium',\n",
       "       'Low', 'Medium', 'Low', 'Medium', 'Low', 'Medium', 'Low', 'High',\n",
       "       'Low', 'High', 'Medium', 'Medium', 'Low', 'Medium', 'Low',\n",
       "       'Medium', 'Medium', 'Low', 'High', 'Low', 'Low', 'Low', 'Low',\n",
       "       'Low', 'Low', 'Low', 'Medium', 'Low', 'Low', 'Low', 'Medium',\n",
       "       'Medium', 'Low', 'Low', 'Low', 'Medium'], dtype='<U6')"
      ]
     },
     "execution_count": 65,
     "metadata": {},
     "output_type": "execute_result"
    }
   ],
   "source": [
    "from sklearn.naive_bayes import GaussianNB \n",
    "gnb = GaussianNB()\n",
    "gnb.fit(X_train, Y_train)\n",
    "gnb_predictions = gnb.predict(X_test) \n",
    "gnb_predictions"
   ]
  },
  {
   "cell_type": "code",
   "execution_count": 66,
   "metadata": {},
   "outputs": [
    {
     "name": "stdout",
     "output_type": "stream",
     "text": [
      "accuracy_score :  0.5557788944723618\n",
      "classification_report :                precision    recall  f1-score   support\n",
      "\n",
      "        High       0.47      0.10      0.17       244\n",
      "         Low       0.62      0.87      0.72       420\n",
      "      Medium       0.46      0.49      0.48       331\n",
      "\n",
      "   micro avg       0.56      0.56      0.56       995\n",
      "   macro avg       0.52      0.49      0.46       995\n",
      "weighted avg       0.53      0.56      0.51       995\n",
      "\n"
     ]
    }
   ],
   "source": [
    "print(\"accuracy_score : \",accuracy_score(Y_test,gnb_predictions))\n",
    "print(\"classification_report : \",classification_report(Y_test,gnb_predictions))"
   ]
  },
  {
   "cell_type": "markdown",
   "metadata": {},
   "source": [
    "### KNN classifier"
   ]
  },
  {
   "cell_type": "code",
   "execution_count": 67,
   "metadata": {},
   "outputs": [
    {
     "data": {
      "text/plain": [
       "array(['Low', 'Low', 'Low', 'Low', 'Low', 'Low', 'Low', 'Low', 'Low',\n",
       "       'Medium', 'Medium', 'Medium', 'Low', 'Low', 'Low', 'Low', 'Low',\n",
       "       'High', 'Low', 'High', 'Low', 'High', 'High', 'High', 'High',\n",
       "       'Low', 'Medium', 'Medium', 'Low', 'High', 'Medium', 'High', 'Low',\n",
       "       'Medium', 'High', 'Low', 'Medium', 'Low', 'High', 'Low', 'High',\n",
       "       'Medium', 'Low', 'Low', 'Medium', 'Medium', 'Low', 'Low', 'Low',\n",
       "       'Low', 'Low', 'Low', 'Medium', 'High', 'Low', 'Low', 'High', 'Low',\n",
       "       'Low', 'Low', 'Medium', 'Low', 'Low', 'Low', 'Low', 'Medium',\n",
       "       'Medium', 'Low', 'Low', 'Low', 'High', 'Medium', 'Low', 'Low',\n",
       "       'Low', 'Low', 'Low', 'Medium', 'Low', 'Low', 'Low', 'Low',\n",
       "       'Medium', 'Low', 'Medium', 'High', 'Low', 'Low', 'Low', 'High',\n",
       "       'Medium', 'High', 'Low', 'Low', 'Low', 'Low', 'Medium', 'Medium',\n",
       "       'Low', 'Medium', 'Low', 'Low', 'Medium', 'Low', 'Medium', 'Low',\n",
       "       'Low', 'Medium', 'High', 'Low', 'Medium', 'High', 'Low', 'Medium',\n",
       "       'Low', 'Low', 'Low', 'Low', 'Low', 'High', 'Low', 'Medium',\n",
       "       'Medium', 'Medium', 'Low', 'Low', 'Low', 'Medium', 'Medium',\n",
       "       'High', 'Low', 'Low', 'Low', 'Low', 'Medium', 'High', 'Low', 'Low',\n",
       "       'Low', 'Medium', 'Low', 'Low', 'Low', 'High', 'Medium', 'High',\n",
       "       'Medium', 'High', 'High', 'Low', 'Low', 'High', 'High', 'Low',\n",
       "       'Low', 'Low', 'Medium', 'Medium', 'Low', 'High', 'High', 'Low',\n",
       "       'Medium', 'Low', 'Low', 'Low', 'Medium', 'High', 'Medium', 'Low',\n",
       "       'Medium', 'Low', 'Low', 'Low', 'Low', 'Low', 'Low', 'Medium',\n",
       "       'Low', 'Medium', 'Medium', 'High', 'Low', 'High', 'Low', 'Low',\n",
       "       'High', 'Medium', 'Low', 'High', 'Medium', 'Low', 'High', 'Low',\n",
       "       'Low', 'High', 'High', 'High', 'High', 'Low', 'Low', 'Low', 'High',\n",
       "       'High', 'High', 'Low', 'Low', 'Low', 'Low', 'Low', 'Medium', 'Low',\n",
       "       'High', 'Medium', 'Medium', 'Low', 'Medium', 'Low', 'Medium',\n",
       "       'Medium', 'Medium', 'Medium', 'Medium', 'Medium', 'Medium',\n",
       "       'Medium', 'Medium', 'Low', 'Medium', 'Medium', 'Low', 'Medium',\n",
       "       'Low', 'Low', 'Low', 'High', 'Medium', 'Low', 'Low', 'Low', 'High',\n",
       "       'Low', 'Low', 'Low', 'High', 'Low', 'Low', 'Low', 'Medium', 'Low',\n",
       "       'Medium', 'High', 'Medium', 'Low', 'Medium', 'Medium', 'Low',\n",
       "       'Low', 'Low', 'Low', 'Low', 'Low', 'Low', 'Medium', 'High', 'Low',\n",
       "       'Low', 'Low', 'Medium', 'Low', 'Low', 'Low', 'Medium', 'Medium',\n",
       "       'Low', 'Medium', 'Medium', 'High', 'Medium', 'Medium', 'Low',\n",
       "       'Medium', 'High', 'Low', 'High', 'Medium', 'Medium', 'Low',\n",
       "       'Medium', 'Low', 'Medium', 'Medium', 'Low', 'Low', 'Low', 'Low',\n",
       "       'Low', 'Low', 'Medium', 'High', 'Low', 'Medium', 'Low', 'High',\n",
       "       'Low', 'High', 'High', 'Low', 'Medium', 'Low', 'Medium', 'High',\n",
       "       'High', 'Medium', 'Low', 'Medium', 'Low', 'Low', 'Medium', 'Low',\n",
       "       'Low', 'Low', 'Low', 'Low', 'Low', 'High', 'Low', 'Medium', 'Low',\n",
       "       'High', 'Low', 'High', 'Medium', 'Low', 'Low', 'High', 'Low',\n",
       "       'Low', 'Low', 'Medium', 'Low', 'Medium', 'High', 'Medium', 'Low',\n",
       "       'High', 'Low', 'Low', 'Low', 'Medium', 'High', 'Low', 'Medium',\n",
       "       'Low', 'Low', 'Low', 'High', 'High', 'Medium', 'Medium', 'Low',\n",
       "       'Low', 'Low', 'Medium', 'Medium', 'Medium', 'Low', 'Low', 'Low',\n",
       "       'High', 'High', 'Low', 'High', 'Medium', 'High', 'High', 'Low',\n",
       "       'Low', 'Low', 'Low', 'Low', 'Low', 'Medium', 'High', 'Low',\n",
       "       'Medium', 'Medium', 'Low', 'Low', 'High', 'Low', 'Medium', 'Low',\n",
       "       'Low', 'High', 'Medium', 'Medium', 'High', 'Low', 'High', 'Low',\n",
       "       'Low', 'Low', 'Low', 'High', 'Low', 'Low', 'Medium', 'Low', 'High',\n",
       "       'Medium', 'High', 'Low', 'Low', 'Medium', 'Low', 'Low', 'Low',\n",
       "       'Medium', 'Low', 'Low', 'High', 'Medium', 'Low', 'Medium', 'High',\n",
       "       'Medium', 'High', 'Low', 'Medium', 'Medium', 'Low', 'Low',\n",
       "       'Medium', 'Low', 'Low', 'Low', 'Low', 'Low', 'Low', 'Low', 'Low',\n",
       "       'Medium', 'Low', 'Low', 'Medium', 'Low', 'Medium', 'Medium',\n",
       "       'High', 'Low', 'Low', 'Medium', 'Low', 'Low', 'High', 'High',\n",
       "       'High', 'Low', 'High', 'Low', 'Low', 'High', 'Low', 'Medium',\n",
       "       'Low', 'Medium', 'High', 'Low', 'Low', 'Low', 'Low', 'Medium',\n",
       "       'Low', 'Medium', 'Medium', 'Low', 'Low', 'Low', 'Low', 'Medium',\n",
       "       'Medium', 'Low', 'Low', 'Low', 'Medium', 'Low', 'Low', 'High',\n",
       "       'Low', 'Low', 'Low', 'Low', 'Low', 'Low', 'Low', 'Low', 'Low',\n",
       "       'Medium', 'Low', 'Low', 'Low', 'Low', 'Low', 'Medium', 'Low',\n",
       "       'Medium', 'Low', 'Low', 'Low', 'Medium', 'Low', 'Medium', 'Medium',\n",
       "       'Medium', 'Medium', 'Medium', 'Low', 'Low', 'Low', 'Medium', 'Low',\n",
       "       'Medium', 'Low', 'Medium', 'Medium', 'Medium', 'Medium', 'Low',\n",
       "       'Low', 'Medium', 'Medium', 'Low', 'Low', 'Medium', 'Low', 'Medium',\n",
       "       'Low', 'Low', 'High', 'Low', 'Low', 'Low', 'Low', 'High', 'Low',\n",
       "       'Low', 'Low', 'Low', 'High', 'High', 'Medium', 'Low', 'Low', 'Low',\n",
       "       'Low', 'Low', 'Low', 'Medium', 'Medium', 'Low', 'Low', 'Low',\n",
       "       'Low', 'Low', 'Medium', 'High', 'Low', 'Low', 'Low', 'Medium',\n",
       "       'Low', 'Low', 'Low', 'Low', 'High', 'Medium', 'High', 'Medium',\n",
       "       'High', 'Low', 'Medium', 'High', 'High', 'Medium', 'Low', 'Low',\n",
       "       'Medium', 'Low', 'Low', 'High', 'Low', 'High', 'Low', 'High',\n",
       "       'Low', 'Low', 'Low', 'Low', 'Low', 'High', 'Medium', 'Medium',\n",
       "       'High', 'Medium', 'Low', 'Low', 'Medium', 'Medium', 'Low',\n",
       "       'Medium', 'Low', 'Low', 'Medium', 'Medium', 'Low', 'Low', 'Low',\n",
       "       'Low', 'Low', 'Low', 'Medium', 'Medium', 'High', 'High', 'High',\n",
       "       'Medium', 'Medium', 'Medium', 'Low', 'Medium', 'Low', 'Medium',\n",
       "       'Medium', 'Low', 'High', 'Medium', 'Medium', 'Low', 'Medium',\n",
       "       'Medium', 'Low', 'Medium', 'Low', 'Medium', 'High', 'Low', 'Low',\n",
       "       'High', 'Medium', 'Low', 'Low', 'Medium', 'Medium', 'High',\n",
       "       'Medium', 'High', 'Low', 'Low', 'High', 'Medium', 'Low', 'High',\n",
       "       'Medium', 'Medium', 'High', 'Low', 'Low', 'Medium', 'Low', 'Low',\n",
       "       'Low', 'Medium', 'Low', 'Low', 'Medium', 'Low', 'Low', 'Low',\n",
       "       'High', 'Medium', 'Medium', 'Low', 'High', 'Medium', 'Low', 'High',\n",
       "       'Low', 'Medium', 'Low', 'High', 'High', 'Low', 'Medium', 'Low',\n",
       "       'High', 'Low', 'Medium', 'Low', 'High', 'Low', 'Low', 'High',\n",
       "       'High', 'Low', 'High', 'Low', 'High', 'High', 'Medium', 'Medium',\n",
       "       'High', 'Low', 'Medium', 'Low', 'Low', 'Low', 'High', 'Low', 'Low',\n",
       "       'Low', 'Low', 'Low', 'Low', 'Medium', 'Medium', 'Low', 'High',\n",
       "       'Medium', 'Low', 'Medium', 'High', 'Medium', 'Medium', 'Low',\n",
       "       'Low', 'Low', 'Low', 'Medium', 'High', 'Medium', 'High', 'Medium',\n",
       "       'Low', 'High', 'Low', 'Medium', 'Medium', 'Medium', 'Low', 'High',\n",
       "       'Low', 'Low', 'High', 'Medium', 'Low', 'Medium', 'High', 'Low',\n",
       "       'Medium', 'Low', 'Medium', 'Medium', 'Low', 'Low', 'High', 'High',\n",
       "       'Medium', 'Medium', 'High', 'Low', 'Low', 'Medium', 'Medium',\n",
       "       'Low', 'Low', 'High', 'High', 'Low', 'Low', 'Low', 'Low', 'Low',\n",
       "       'Low', 'Medium', 'Low', 'Low', 'Low', 'High', 'Low', 'High',\n",
       "       'Medium', 'High', 'Low', 'Low', 'Low', 'Low', 'High', 'Low', 'Low',\n",
       "       'High', 'Medium', 'Low', 'Low', 'Low', 'Low', 'High', 'Medium',\n",
       "       'Low', 'Low', 'Low', 'Medium', 'Medium', 'Low', 'High', 'Low',\n",
       "       'Low', 'Medium', 'Medium', 'Low', 'Low', 'Medium', 'High',\n",
       "       'Medium', 'Low', 'Medium', 'Low', 'Low', 'Medium', 'High', 'Low',\n",
       "       'Low', 'Low', 'Low', 'Medium', 'High', 'Low', 'Low', 'High',\n",
       "       'High', 'Low', 'Medium', 'High', 'Low', 'Low', 'Medium', 'Low',\n",
       "       'Low', 'Medium', 'Low', 'High', 'Medium', 'Low', 'Low', 'Medium',\n",
       "       'Low', 'Medium', 'Medium', 'Low', 'Low', 'Low', 'Low', 'Low',\n",
       "       'High', 'Low', 'Low', 'Low', 'High', 'Low', 'Medium', 'Low',\n",
       "       'Medium', 'Low', 'High', 'Low', 'Medium', 'Medium', 'High', 'Low',\n",
       "       'High', 'Low', 'Medium', 'Low', 'Low', 'Low', 'Low', 'Low', 'High',\n",
       "       'High', 'High', 'Medium', 'Low', 'Low', 'High', 'Low', 'Low',\n",
       "       'Low', 'Low', 'High', 'Medium', 'Medium', 'Medium', 'High', 'Low',\n",
       "       'Medium', 'Low', 'Medium', 'High', 'Low', 'High', 'Low', 'Medium',\n",
       "       'Medium', 'Medium', 'Medium', 'Medium', 'Low', 'High', 'High',\n",
       "       'Low', 'Medium', 'Medium', 'Medium', 'High', 'Low', 'Low', 'Low',\n",
       "       'Low', 'Low', 'Low', 'High', 'High', 'Low', 'Low', 'Low', 'High',\n",
       "       'Low', 'Low', 'Low', 'Low', 'Medium', 'Low', 'Low', 'High', 'Low',\n",
       "       'Low', 'High', 'Low', 'Medium', 'Medium', 'Low', 'Low', 'Low',\n",
       "       'High', 'High', 'High', 'Low', 'Low', 'Medium', 'Low', 'High',\n",
       "       'Low', 'High', 'High', 'Low', 'Medium', 'High', 'Low', 'Medium',\n",
       "       'Medium', 'High', 'Low', 'Low', 'Low', 'High', 'Medium', 'High',\n",
       "       'High', 'Low', 'Low', 'Low', 'Low', 'Medium', 'Medium', 'Low',\n",
       "       'Medium', 'Low', 'Low', 'Low', 'High', 'Medium', 'Low', 'High',\n",
       "       'Low', 'Medium'], dtype=object)"
      ]
     },
     "execution_count": 67,
     "metadata": {},
     "output_type": "execute_result"
    }
   ],
   "source": [
    "from sklearn.neighbors import KNeighborsClassifier \n",
    "knn = KNeighborsClassifier()\n",
    "knn.fit(X_train, Y_train)\n",
    "knn_predictions = knn.predict(X_test) \n",
    "knn_predictions"
   ]
  },
  {
   "cell_type": "code",
   "execution_count": 68,
   "metadata": {},
   "outputs": [
    {
     "name": "stdout",
     "output_type": "stream",
     "text": [
      "accuracy_score :  0.6231155778894473\n",
      "classification_report :                precision    recall  f1-score   support\n",
      "\n",
      "        High       0.61      0.48      0.54       244\n",
      "         Low       0.68      0.86      0.76       420\n",
      "      Medium       0.52      0.43      0.47       331\n",
      "\n",
      "   micro avg       0.62      0.62      0.62       995\n",
      "   macro avg       0.60      0.59      0.59       995\n",
      "weighted avg       0.61      0.62      0.61       995\n",
      "\n"
     ]
    }
   ],
   "source": [
    "print(\"accuracy_score : \",accuracy_score(Y_test,knn_predictions))\n",
    "print(\"classification_report : \",classification_report(Y_test,knn_predictions))"
   ]
  },
  {
   "cell_type": "markdown",
   "metadata": {},
   "source": [
    "### Decision Tree Classifier"
   ]
  },
  {
   "cell_type": "code",
   "execution_count": 69,
   "metadata": {},
   "outputs": [
    {
     "data": {
      "text/plain": [
       "array(['Low', 'Medium', 'Low', 'Low', 'High', 'Low', 'Low', 'Low', 'Low',\n",
       "       'Medium', 'Medium', 'Medium', 'Medium', 'Low', 'Low', 'Low', 'Low',\n",
       "       'Medium', 'Low', 'High', 'Low', 'Medium', 'Medium', 'Medium',\n",
       "       'High', 'Low', 'Medium', 'Medium', 'Low', 'High', 'Medium', 'High',\n",
       "       'Low', 'Medium', 'High', 'Medium', 'High', 'Low', 'High', 'Low',\n",
       "       'High', 'Medium', 'Low', 'Low', 'Low', 'Low', 'Low', 'Medium',\n",
       "       'Low', 'Low', 'Low', 'Medium', 'Medium', 'Medium', 'Low', 'Medium',\n",
       "       'Medium', 'Low', 'Medium', 'Low', 'High', 'Low', 'High', 'High',\n",
       "       'Low', 'High', 'Medium', 'High', 'Medium', 'Low', 'High', 'Medium',\n",
       "       'Low', 'Low', 'Low', 'Medium', 'Low', 'Medium', 'Medium', 'Low',\n",
       "       'Low', 'Medium', 'Medium', 'Low', 'Medium', 'Low', 'Low', 'Low',\n",
       "       'High', 'High', 'High', 'High', 'Low', 'Low', 'Low', 'Low',\n",
       "       'Medium', 'Medium', 'Low', 'Medium', 'Low', 'Medium', 'Low', 'Low',\n",
       "       'Low', 'Low', 'Low', 'High', 'Medium', 'Low', 'High', 'High',\n",
       "       'High', 'High', 'Low', 'Low', 'Low', 'Low', 'Medium', 'High',\n",
       "       'Low', 'Medium', 'Low', 'Medium', 'Low', 'Low', 'High', 'Low',\n",
       "       'Medium', 'Medium', 'Low', 'High', 'High', 'Low', 'Medium', 'High',\n",
       "       'Medium', 'Low', 'Low', 'Medium', 'Low', 'Low', 'High', 'High',\n",
       "       'Medium', 'Low', 'High', 'Medium', 'Medium', 'Low', 'Low', 'High',\n",
       "       'High', 'Low', 'Low', 'Low', 'Medium', 'Medium', 'Low', 'Low',\n",
       "       'High', 'Low', 'Medium', 'Low', 'Medium', 'Low', 'Low', 'Medium',\n",
       "       'Low', 'Low', 'Medium', 'Low', 'Low', 'Medium', 'Low', 'Low',\n",
       "       'Low', 'Medium', 'Low', 'Medium', 'Medium', 'High', 'Low',\n",
       "       'Medium', 'Low', 'Low', 'Medium', 'Low', 'Low', 'High', 'Medium',\n",
       "       'Low', 'Medium', 'Low', 'High', 'High', 'High', 'High', 'Medium',\n",
       "       'Low', 'Low', 'Low', 'Low', 'High', 'High', 'High', 'High', 'Low',\n",
       "       'Low', 'Low', 'Medium', 'Low', 'High', 'Low', 'Medium', 'Low',\n",
       "       'Medium', 'Low', 'Medium', 'Medium', 'High', 'Medium', 'Medium',\n",
       "       'Medium', 'High', 'High', 'Medium', 'Low', 'Medium', 'Low', 'Low',\n",
       "       'High', 'Low', 'Medium', 'Low', 'Medium', 'Medium', 'Low', 'Low',\n",
       "       'Low', 'High', 'Low', 'Low', 'Low', 'High', 'Low', 'Low', 'Low',\n",
       "       'Low', 'High', 'High', 'Medium', 'Medium', 'Low', 'High', 'Medium',\n",
       "       'Medium', 'High', 'Medium', 'Medium', 'Low', 'Low', 'Low',\n",
       "       'Medium', 'High', 'Low', 'Low', 'Low', 'Medium', 'Low', 'Medium',\n",
       "       'Low', 'Medium', 'Medium', 'Low', 'Low', 'Medium', 'Medium',\n",
       "       'Medium', 'High', 'Low', 'Medium', 'High', 'Low', 'High', 'High',\n",
       "       'Medium', 'Low', 'Medium', 'Low', 'High', 'High', 'Low', 'Low',\n",
       "       'Medium', 'Low', 'Low', 'Low', 'Medium', 'Medium', 'Low', 'High',\n",
       "       'Low', 'High', 'Medium', 'High', 'High', 'Low', 'Medium', 'Low',\n",
       "       'Medium', 'Medium', 'High', 'Medium', 'High', 'High', 'Medium',\n",
       "       'Low', 'High', 'Low', 'Low', 'Low', 'Medium', 'High', 'Low',\n",
       "       'Medium', 'Low', 'Medium', 'Low', 'High', 'Low', 'High', 'Medium',\n",
       "       'Low', 'Low', 'Medium', 'High', 'Low', 'Low', 'Medium', 'Low',\n",
       "       'Medium', 'Medium', 'High', 'Medium', 'High', 'Low', 'Low', 'Low',\n",
       "       'Medium', 'Medium', 'Medium', 'High', 'Low', 'Low', 'High', 'High',\n",
       "       'High', 'High', 'High', 'Low', 'Low', 'Medium', 'Medium', 'Medium',\n",
       "       'Medium', 'Low', 'High', 'Low', 'Medium', 'Medium', 'Low', 'High',\n",
       "       'Medium', 'Low', 'Medium', 'Low', 'Low', 'Medium', 'Low', 'Low',\n",
       "       'Low', 'Low', 'High', 'Low', 'High', 'Medium', 'Low', 'Low',\n",
       "       'High', 'Low', 'Medium', 'Medium', 'Low', 'Medium', 'Medium',\n",
       "       'Medium', 'Medium', 'Medium', 'High', 'Low', 'Low', 'Medium',\n",
       "       'Low', 'Medium', 'Low', 'Medium', 'Low', 'Low', 'High', 'Medium',\n",
       "       'High', 'Low', 'Low', 'Medium', 'Low', 'Low', 'Low', 'High', 'Low',\n",
       "       'Low', 'Low', 'Medium', 'Medium', 'Medium', 'High', 'Medium',\n",
       "       'Medium', 'Low', 'Low', 'High', 'Low', 'Low', 'Medium', 'Medium',\n",
       "       'Low', 'Low', 'Medium', 'Low', 'Low', 'Medium', 'Low', 'Low',\n",
       "       'Low', 'High', 'Low', 'Low', 'Low', 'Medium', 'High', 'Medium',\n",
       "       'Low', 'Medium', 'Low', 'High', 'High', 'High', 'Medium', 'Low',\n",
       "       'High', 'Low', 'Low', 'High', 'Low', 'Medium', 'Low', 'Medium',\n",
       "       'Medium', 'Low', 'Low', 'Low', 'Low', 'Medium', 'Low', 'Low',\n",
       "       'High', 'Low', 'Low', 'Low', 'Low', 'High', 'Low', 'Medium', 'Low',\n",
       "       'Low', 'High', 'Low', 'Low', 'High', 'Low', 'Low', 'Medium',\n",
       "       'High', 'Medium', 'High', 'Low', 'Low', 'Low', 'High', 'Low',\n",
       "       'Low', 'Low', 'Medium', 'Low', 'Medium', 'Low', 'Medium', 'Low',\n",
       "       'Low', 'Low', 'Low', 'Low', 'Medium', 'High', 'Low', 'High',\n",
       "       'Medium', 'Low', 'Low', 'Low', 'Medium', 'Low', 'Medium', 'Low',\n",
       "       'Medium', 'Low', 'Medium', 'Medium', 'Low', 'High', 'Medium',\n",
       "       'Low', 'Low', 'Medium', 'Low', 'Low', 'High', 'Low', 'Low',\n",
       "       'Medium', 'Low', 'Low', 'Low', 'Low', 'Low', 'High', 'Low', 'Low',\n",
       "       'Medium', 'High', 'Low', 'Medium', 'Low', 'Medium', 'Low', 'Low',\n",
       "       'Low', 'Low', 'Medium', 'Medium', 'Low', 'Low', 'Medium', 'Low',\n",
       "       'Medium', 'High', 'Low', 'Low', 'Low', 'Low', 'Medium', 'Low',\n",
       "       'Low', 'High', 'Low', 'High', 'High', 'High', 'Low', 'Medium',\n",
       "       'Low', 'Medium', 'High', 'High', 'Medium', 'Low', 'Low', 'Medium',\n",
       "       'Medium', 'Medium', 'Medium', 'Low', 'High', 'Low', 'High', 'Low',\n",
       "       'Low', 'Low', 'Low', 'Low', 'Medium', 'Medium', 'High', 'Medium',\n",
       "       'High', 'Low', 'Low', 'Medium', 'Low', 'Medium', 'Low', 'Medium',\n",
       "       'Low', 'Medium', 'Low', 'Low', 'Low', 'Low', 'Low', 'Low', 'Low',\n",
       "       'Medium', 'Low', 'Medium', 'High', 'Medium', 'Medium', 'Medium',\n",
       "       'Medium', 'Low', 'Low', 'Medium', 'Low', 'Medium', 'Medium',\n",
       "       'High', 'Medium', 'Medium', 'Medium', 'High', 'Medium', 'High',\n",
       "       'Medium', 'Low', 'Low', 'Medium', 'Low', 'Low', 'Medium', 'Medium',\n",
       "       'Low', 'Low', 'Medium', 'High', 'High', 'Medium', 'Low', 'Low',\n",
       "       'Low', 'Medium', 'High', 'Low', 'Medium', 'Low', 'Medium', 'High',\n",
       "       'Low', 'Medium', 'Medium', 'Low', 'Low', 'Low', 'Medium', 'Low',\n",
       "       'Low', 'Low', 'Medium', 'Low', 'Low', 'Medium', 'Low', 'Medium',\n",
       "       'Low', 'High', 'Low', 'High', 'Medium', 'Medium', 'Medium', 'Low',\n",
       "       'Medium', 'High', 'Low', 'Low', 'Medium', 'High', 'High', 'Medium',\n",
       "       'High', 'Low', 'Low', 'Low', 'High', 'High', 'Low', 'Medium',\n",
       "       'Low', 'Medium', 'High', 'Medium', 'Low', 'Medium', 'Low',\n",
       "       'Medium', 'High', 'Medium', 'Low', 'High', 'Low', 'Low', 'High',\n",
       "       'Medium', 'Low', 'Low', 'Medium', 'Low', 'Low', 'High', 'Medium',\n",
       "       'Low', 'Low', 'Medium', 'Medium', 'High', 'Low', 'Low', 'Low',\n",
       "       'Low', 'Medium', 'Medium', 'Medium', 'High', 'Low', 'Low', 'High',\n",
       "       'Low', 'Medium', 'Low', 'Low', 'Medium', 'Medium', 'Low', 'Low',\n",
       "       'High', 'High', 'Low', 'Medium', 'Medium', 'Low', 'High', 'Low',\n",
       "       'Medium', 'Low', 'Medium', 'Low', 'High', 'High', 'High', 'Medium',\n",
       "       'High', 'Low', 'Medium', 'Low', 'Medium', 'Low', 'Medium', 'High',\n",
       "       'Medium', 'Low', 'Medium', 'Low', 'Low', 'Low', 'High', 'Medium',\n",
       "       'High', 'Medium', 'Medium', 'Medium', 'Low', 'High', 'Medium',\n",
       "       'High', 'Low', 'Low', 'Low', 'Medium', 'High', 'Low', 'Low',\n",
       "       'Medium', 'Medium', 'Medium', 'Low', 'Low', 'Medium', 'High',\n",
       "       'Medium', 'Low', 'Low', 'Low', 'High', 'Low', 'Low', 'High', 'Low',\n",
       "       'Medium', 'Medium', 'Medium', 'Low', 'Low', 'High', 'High',\n",
       "       'Medium', 'Low', 'Low', 'Low', 'Low', 'Medium', 'Medium', 'Low',\n",
       "       'Low', 'Low', 'Low', 'Medium', 'High', 'Low', 'Low', 'High',\n",
       "       'Medium', 'Low', 'Medium', 'High', 'Low', 'High', 'Medium',\n",
       "       'Medium', 'Low', 'Medium', 'Low', 'High', 'Medium', 'Low', 'Low',\n",
       "       'High', 'Low', 'Medium', 'Medium', 'Low', 'Low', 'High', 'High',\n",
       "       'Low', 'Medium', 'Medium', 'Medium', 'Medium', 'Low', 'Medium',\n",
       "       'Medium', 'Medium', 'Medium', 'Low', 'High', 'Low', 'Medium',\n",
       "       'High', 'High', 'Low', 'High', 'Low', 'Low', 'Low', 'Low',\n",
       "       'Medium', 'Medium', 'Low', 'High', 'High', 'High', 'Low', 'Low',\n",
       "       'Low', 'High', 'Low', 'Low', 'Medium', 'Low', 'High', 'Medium',\n",
       "       'Low', 'High', 'High', 'Low', 'Medium', 'Low', 'High', 'High',\n",
       "       'Low', 'High', 'High', 'High', 'High', 'Medium', 'Medium', 'High',\n",
       "       'Low', 'High', 'Medium', 'Low', 'High', 'High', 'Medium', 'High',\n",
       "       'Low', 'Medium', 'Low', 'Low', 'Low', 'Low', 'Medium', 'High',\n",
       "       'Low', 'Low', 'Low', 'High', 'Medium', 'Medium', 'Low', 'Medium',\n",
       "       'Medium', 'Low', 'Low', 'High', 'Low', 'Low', 'Medium', 'Low',\n",
       "       'Low', 'Medium', 'Low', 'Low', 'Medium', 'High', 'High', 'High',\n",
       "       'Low', 'Low', 'High', 'Low', 'High', 'Low', 'High', 'Medium',\n",
       "       'Low', 'Medium', 'High', 'Low', 'High', 'Medium', 'High', 'Low',\n",
       "       'Medium', 'High', 'High', 'Medium', 'Medium', 'High', 'High',\n",
       "       'Low', 'Low', 'Low', 'High', 'Low', 'Low', 'High', 'Low', 'Low',\n",
       "       'Low', 'Medium', 'Medium', 'Low', 'Low', 'Low', 'Medium'],\n",
       "      dtype=object)"
      ]
     },
     "execution_count": 69,
     "metadata": {},
     "output_type": "execute_result"
    }
   ],
   "source": [
    "from sklearn.tree import DecisionTreeClassifier \n",
    "dtree_model = DecisionTreeClassifier(random_state=0)\n",
    "dtree_model.fit(X_train, Y_train)\n",
    "dtree_predictions = dtree_model.predict(X_test)\n",
    "dtree_predictions"
   ]
  },
  {
   "cell_type": "code",
   "execution_count": 70,
   "metadata": {},
   "outputs": [
    {
     "name": "stdout",
     "output_type": "stream",
     "text": [
      "accuracy_score :  0.650251256281407\n",
      "classification_report :                precision    recall  f1-score   support\n",
      "\n",
      "        High       0.52      0.45      0.48       244\n",
      "         Low       0.77      0.86      0.81       420\n",
      "      Medium       0.56      0.53      0.54       331\n",
      "\n",
      "   micro avg       0.65      0.65      0.65       995\n",
      "   macro avg       0.62      0.61      0.61       995\n",
      "weighted avg       0.64      0.65      0.64       995\n",
      "\n"
     ]
    }
   ],
   "source": [
    "print(\"accuracy_score : \",accuracy_score(Y_test,dtree_predictions))\n",
    "print(\"classification_report : \",classification_report(Y_test,dtree_predictions))"
   ]
  },
  {
   "cell_type": "markdown",
   "metadata": {},
   "source": [
    "### Random Forest"
   ]
  },
  {
   "cell_type": "code",
   "execution_count": 71,
   "metadata": {},
   "outputs": [
    {
     "data": {
      "text/plain": [
       "array(['Low', 'Low', 'Low', 'Low', 'Low', 'Low', 'Low', 'Low', 'Low',\n",
       "       'Medium', 'Medium', 'Medium', 'Medium', 'Medium', 'Low', 'Low',\n",
       "       'Low', 'Medium', 'Low', 'High', 'Low', 'Medium', 'Medium', 'High',\n",
       "       'High', 'Low', 'Medium', 'Medium', 'Low', 'High', 'Medium', 'High',\n",
       "       'Low', 'Medium', 'High', 'Low', 'High', 'Low', 'High', 'Low',\n",
       "       'High', 'Medium', 'Low', 'Low', 'Low', 'Medium', 'Medium',\n",
       "       'Medium', 'Low', 'Low', 'Low', 'Low', 'Medium', 'Medium', 'Medium',\n",
       "       'Medium', 'Medium', 'Low', 'High', 'Low', 'High', 'Low', 'High',\n",
       "       'High', 'Low', 'Medium', 'Medium', 'High', 'Low', 'Low', 'High',\n",
       "       'Medium', 'Low', 'Low', 'Low', 'Medium', 'Low', 'Medium', 'Low',\n",
       "       'Low', 'Low', 'Low', 'Medium', 'Low', 'Medium', 'High', 'Low',\n",
       "       'Low', 'Low', 'High', 'High', 'High', 'Low', 'Low', 'Low', 'Low',\n",
       "       'Medium', 'Medium', 'Low', 'Medium', 'Low', 'Medium', 'Low', 'Low',\n",
       "       'Medium', 'Low', 'Low', 'High', 'High', 'Low', 'Medium', 'High',\n",
       "       'Low', 'High', 'Low', 'Low', 'Low', 'Low', 'Low', 'High', 'Low',\n",
       "       'High', 'Low', 'Medium', 'Low', 'Medium', 'Low', 'Low', 'Medium',\n",
       "       'Medium', 'Low', 'High', 'Low', 'Low', 'High', 'High', 'Medium',\n",
       "       'Low', 'Low', 'High', 'Low', 'Low', 'High', 'Medium', 'High',\n",
       "       'Low', 'High', 'High', 'Medium', 'Low', 'Low', 'High', 'High',\n",
       "       'Low', 'Low', 'Low', 'Medium', 'Medium', 'Low', 'Low', 'Medium',\n",
       "       'Low', 'Medium', 'Low', 'Medium', 'Low', 'High', 'High', 'Low',\n",
       "       'Low', 'Medium', 'Low', 'Low', 'Medium', 'Low', 'Low', 'Low',\n",
       "       'High', 'Low', 'Medium', 'Medium', 'High', 'Low', 'High', 'Low',\n",
       "       'Low', 'Medium', 'Low', 'Low', 'High', 'Medium', 'Low', 'Medium',\n",
       "       'Low', 'Medium', 'High', 'High', 'Medium', 'High', 'Low', 'Low',\n",
       "       'Low', 'High', 'High', 'High', 'High', 'Medium', 'Low', 'Low',\n",
       "       'Low', 'High', 'Low', 'High', 'Low', 'Medium', 'Low', 'Medium',\n",
       "       'Low', 'Medium', 'Medium', 'Medium', 'Medium', 'Medium', 'Medium',\n",
       "       'High', 'High', 'Medium', 'Low', 'High', 'Medium', 'Low', 'High',\n",
       "       'Low', 'Medium', 'Low', 'High', 'Medium', 'Low', 'Low', 'Low',\n",
       "       'High', 'Low', 'Low', 'Low', 'High', 'Low', 'Low', 'Low', 'Low',\n",
       "       'High', 'High', 'Low', 'Medium', 'Low', 'Medium', 'Low', 'Low',\n",
       "       'High', 'Medium', 'Low', 'Low', 'Low', 'Low', 'Medium', 'High',\n",
       "       'Low', 'Low', 'Low', 'Medium', 'Low', 'Medium', 'Low', 'Medium',\n",
       "       'Medium', 'Low', 'Low', 'Medium', 'High', 'Medium', 'High', 'Low',\n",
       "       'Medium', 'High', 'Low', 'High', 'High', 'Medium', 'Low', 'Medium',\n",
       "       'Low', 'Medium', 'High', 'Low', 'Medium', 'Medium', 'Low', 'Low',\n",
       "       'Low', 'Medium', 'Medium', 'Low', 'Medium', 'Low', 'High', 'High',\n",
       "       'Medium', 'High', 'Low', 'Medium', 'Low', 'Medium', 'High', 'High',\n",
       "       'Medium', 'Low', 'High', 'Low', 'Low', 'High', 'Low', 'Low', 'Low',\n",
       "       'Low', 'High', 'Low', 'High', 'Low', 'Medium', 'Low', 'High',\n",
       "       'Low', 'High', 'Medium', 'Low', 'Low', 'High', 'Low', 'Low', 'Low',\n",
       "       'Medium', 'Low', 'Medium', 'High', 'High', 'Medium', 'High', 'Low',\n",
       "       'Low', 'Low', 'Medium', 'High', 'Medium', 'High', 'Low', 'Low',\n",
       "       'High', 'High', 'High', 'Medium', 'High', 'Low', 'Low', 'Medium',\n",
       "       'Medium', 'Medium', 'Medium', 'Low', 'Low', 'Low', 'High',\n",
       "       'Medium', 'Low', 'High', 'Medium', 'Medium', 'High', 'Low', 'Low',\n",
       "       'Low', 'Low', 'Low', 'Low', 'Low', 'High', 'Low', 'Medium',\n",
       "       'Medium', 'Low', 'Low', 'High', 'Low', 'Medium', 'Medium', 'Low',\n",
       "       'High', 'Medium', 'Medium', 'High', 'Medium', 'High', 'Low', 'Low',\n",
       "       'Low', 'Low', 'Medium', 'Low', 'Medium', 'Low', 'Low', 'High',\n",
       "       'Medium', 'High', 'Low', 'Low', 'Medium', 'Low', 'Low', 'Medium',\n",
       "       'High', 'Low', 'Low', 'Low', 'Medium', 'Low', 'Low', 'High',\n",
       "       'Medium', 'Medium', 'Low', 'Low', 'Medium', 'Low', 'Low', 'Medium',\n",
       "       'Low', 'Low', 'Low', 'Low', 'Low', 'Low', 'Medium', 'Low', 'Low',\n",
       "       'Low', 'Low', 'Low', 'Low', 'Medium', 'Medium', 'High', 'Low',\n",
       "       'Low', 'Medium', 'Low', 'Low', 'High', 'High', 'High', 'Low',\n",
       "       'High', 'Low', 'Low', 'High', 'Low', 'Medium', 'Low', 'Medium',\n",
       "       'Medium', 'Low', 'Low', 'Low', 'Low', 'Medium', 'Low', 'Medium',\n",
       "       'High', 'Low', 'Low', 'Low', 'Low', 'High', 'Medium', 'High',\n",
       "       'Low', 'Low', 'High', 'Low', 'Low', 'High', 'Low', 'Low', 'Medium',\n",
       "       'Low', 'Medium', 'High', 'Low', 'Low', 'Low', 'Medium', 'Low',\n",
       "       'Low', 'Low', 'Low', 'Low', 'Medium', 'Low', 'Medium', 'Low',\n",
       "       'Low', 'Low', 'Low', 'Low', 'Medium', 'Medium', 'Medium', 'Medium',\n",
       "       'High', 'Low', 'Low', 'Low', 'High', 'Low', 'Medium', 'Low',\n",
       "       'Medium', 'Medium', 'Medium', 'Medium', 'Low', 'High', 'Medium',\n",
       "       'Low', 'Low', 'High', 'Low', 'Low', 'High', 'Low', 'Low', 'Low',\n",
       "       'Low', 'Low', 'Low', 'High', 'High', 'High', 'Low', 'Low',\n",
       "       'Medium', 'High', 'Low', 'High', 'Low', 'Medium', 'Low', 'Low',\n",
       "       'Low', 'Low', 'High', 'Medium', 'High', 'Low', 'Medium', 'Low',\n",
       "       'Medium', 'High', 'Low', 'Low', 'Low', 'Low', 'Medium', 'Low',\n",
       "       'Low', 'High', 'Low', 'High', 'Medium', 'High', 'Medium', 'Medium',\n",
       "       'Low', 'Medium', 'High', 'High', 'Medium', 'Low', 'Low', 'Medium',\n",
       "       'Medium', 'Low', 'High', 'Low', 'High', 'Low', 'High', 'Low',\n",
       "       'Medium', 'Low', 'Low', 'Low', 'High', 'Medium', 'High', 'Medium',\n",
       "       'High', 'Low', 'Low', 'Medium', 'Low', 'Medium', 'Low', 'Medium',\n",
       "       'Low', 'Medium', 'Low', 'Low', 'Low', 'Low', 'Low', 'Low', 'Low',\n",
       "       'Medium', 'Low', 'High', 'High', 'Medium', 'Medium', 'Medium',\n",
       "       'Medium', 'Low', 'Low', 'Low', 'Low', 'Medium', 'Medium', 'High',\n",
       "       'Medium', 'Medium', 'Medium', 'High', 'Medium', 'High', 'High',\n",
       "       'Low', 'Low', 'High', 'Low', 'Low', 'High', 'Medium', 'Low', 'Low',\n",
       "       'Medium', 'High', 'High', 'Medium', 'High', 'Low', 'Low', 'High',\n",
       "       'High', 'Low', 'High', 'Low', 'High', 'High', 'Low', 'Medium',\n",
       "       'Medium', 'Low', 'Low', 'Low', 'Medium', 'Low', 'Low', 'Low',\n",
       "       'Low', 'Low', 'Low', 'High', 'High', 'Medium', 'Low', 'High',\n",
       "       'Low', 'High', 'Medium', 'Medium', 'Medium', 'Low', 'Medium',\n",
       "       'High', 'Low', 'Low', 'Medium', 'High', 'High', 'Medium', 'Low',\n",
       "       'Medium', 'Low', 'Low', 'Medium', 'High', 'Low', 'Medium', 'Low',\n",
       "       'High', 'High', 'Medium', 'Low', 'High', 'Low', 'Medium', 'High',\n",
       "       'High', 'Low', 'High', 'Low', 'Low', 'Medium', 'Medium', 'Low',\n",
       "       'Low', 'Medium', 'Low', 'Low', 'High', 'High', 'Low', 'High',\n",
       "       'Medium', 'Medium', 'High', 'Low', 'Low', 'Low', 'Low', 'Medium',\n",
       "       'High', 'Medium', 'High', 'Low', 'Low', 'High', 'Low', 'Medium',\n",
       "       'Low', 'Medium', 'Low', 'Medium', 'Low', 'Low', 'High', 'Medium',\n",
       "       'Low', 'Medium', 'Medium', 'Low', 'High', 'Low', 'Medium',\n",
       "       'Medium', 'Medium', 'Low', 'Medium', 'High', 'High', 'Medium',\n",
       "       'High', 'Low', 'Low', 'Low', 'Low', 'Low', 'Medium', 'High',\n",
       "       'High', 'Low', 'Medium', 'Low', 'Low', 'High', 'High', 'High',\n",
       "       'High', 'Low', 'Low', 'High', 'Low', 'High', 'Medium', 'High',\n",
       "       'Low', 'Low', 'Low', 'Low', 'High', 'Low', 'Medium', 'High',\n",
       "       'Medium', 'Low', 'Low', 'Low', 'Low', 'High', 'Medium', 'Low',\n",
       "       'Low', 'Low', 'High', 'Low', 'Low', 'High', 'Low', 'Low', 'Medium',\n",
       "       'High', 'Low', 'Low', 'High', 'High', 'Medium', 'Low', 'Low',\n",
       "       'Low', 'Low', 'Medium', 'Medium', 'Low', 'Low', 'Low', 'Low',\n",
       "       'Medium', 'Medium', 'Low', 'Low', 'High', 'High', 'Low', 'Medium',\n",
       "       'High', 'Low', 'Medium', 'Medium', 'Medium', 'Low', 'Medium',\n",
       "       'Low', 'High', 'High', 'Low', 'Low', 'High', 'Low', 'Medium',\n",
       "       'Medium', 'Low', 'Low', 'High', 'Low', 'Low', 'High', 'Medium',\n",
       "       'Medium', 'Medium', 'Low', 'Medium', 'Medium', 'High', 'Medium',\n",
       "       'Low', 'High', 'Low', 'High', 'Medium', 'High', 'Low', 'High',\n",
       "       'Low', 'Medium', 'Low', 'Low', 'Medium', 'Low', 'Low', 'High',\n",
       "       'High', 'High', 'Low', 'Low', 'Low', 'High', 'Low', 'Medium',\n",
       "       'Medium', 'Medium', 'High', 'Medium', 'Low', 'Medium', 'High',\n",
       "       'Low', 'High', 'Low', 'High', 'High', 'Low', 'High', 'High',\n",
       "       'Medium', 'High', 'High', 'High', 'High', 'Low', 'High', 'Medium',\n",
       "       'Medium', 'High', 'High', 'Medium', 'High', 'Low', 'High', 'Low',\n",
       "       'Low', 'Low', 'Low', 'Medium', 'High', 'Low', 'Low', 'Low',\n",
       "       'Medium', 'Medium', 'Medium', 'Low', 'Medium', 'Medium', 'Low',\n",
       "       'Low', 'High', 'Low', 'Low', 'Medium', 'Low', 'Low', 'Medium',\n",
       "       'Low', 'Low', 'Low', 'High', 'High', 'High', 'Low', 'Low',\n",
       "       'Medium', 'Low', 'High', 'Medium', 'High', 'Medium', 'Low',\n",
       "       'Medium', 'High', 'Low', 'High', 'Medium', 'High', 'Low', 'Medium',\n",
       "       'Medium', 'High', 'Medium', 'High', 'High', 'High', 'Low', 'Low',\n",
       "       'Low', 'High', 'Low', 'Low', 'High', 'Low', 'Low', 'Low', 'Medium',\n",
       "       'Medium', 'Low', 'Medium', 'Low', 'Medium'], dtype=object)"
      ]
     },
     "execution_count": 71,
     "metadata": {},
     "output_type": "execute_result"
    }
   ],
   "source": [
    "from sklearn.ensemble import RandomForestClassifier\n",
    "rf=RandomForestClassifier(random_state=0)\n",
    "rf.fit(X_train,Y_train)\n",
    "rf_predictions = rf.predict(X_test)\n",
    "rf_predictions"
   ]
  },
  {
   "cell_type": "code",
   "execution_count": 72,
   "metadata": {},
   "outputs": [
    {
     "name": "stdout",
     "output_type": "stream",
     "text": [
      "accuracy_score :  0.6673366834170854\n",
      "classification_report :                precision    recall  f1-score   support\n",
      "\n",
      "        High       0.57      0.57      0.57       244\n",
      "         Low       0.77      0.87      0.82       420\n",
      "      Medium       0.58      0.48      0.53       331\n",
      "\n",
      "   micro avg       0.67      0.67      0.67       995\n",
      "   macro avg       0.64      0.64      0.64       995\n",
      "weighted avg       0.66      0.67      0.66       995\n",
      "\n"
     ]
    }
   ],
   "source": [
    "print(\"accuracy_score : \",accuracy_score(Y_test,rf_predictions))\n",
    "print(\"classification_report : \",classification_report(Y_test,rf_predictions))"
   ]
  },
  {
   "cell_type": "markdown",
   "metadata": {},
   "source": [
    "### Model Scores"
   ]
  },
  {
   "cell_type": "code",
   "execution_count": 105,
   "metadata": {},
   "outputs": [
    {
     "name": "stdout",
     "output_type": "stream",
     "text": [
      "Logistic Regression classifier: 0.5457286432160804\n",
      "\n",
      "Naive Bayes classifier: 0.5557788944723618\n",
      "\n",
      "KNN (k-nearest neighbours) classifier: 0.6160804020100502\n",
      "\n",
      "Decision tree classifier: 0.6512562814070352\n",
      "\n",
      "Random Forest Classifier: 0.6834170854271356\n",
      "\n"
     ]
    }
   ],
   "source": [
    "lr_score = Lr1.score(X_test,Y_test)\n",
    "print(f'Logistic Regression classifier: {lr_score}\\n')\n",
    "gnb_score = gnb.score(X_test,Y_test)\n",
    "print(f'Naive Bayes classifier: {gnb_score}\\n')\n",
    "knn_score = knn.score(X_test,Y_test)\n",
    "print(f'KNN (k-nearest neighbours) classifier: {knn_score}\\n')\n",
    "dt_score = dtree_model.score(X_test,Y_test)\n",
    "print(f'Decision tree classifier: {dt_score}\\n')\n",
    "rf_score = rf.score(X_test,Y_test)\n",
    "print(f'Random Forest Classifier: {rf_score}\\n')"
   ]
  },
  {
   "cell_type": "markdown",
   "metadata": {},
   "source": [
    "The best accuracy is given by the Random Forest classifier. The accuracy is 68.3%. So the future work is to do the hyper parameter tuning and grid search."
   ]
  },
  {
   "cell_type": "code",
   "execution_count": null,
   "metadata": {},
   "outputs": [],
   "source": []
  }
 ],
 "metadata": {
  "kernelspec": {
   "display_name": "Python 3",
   "language": "python",
   "name": "python3"
  },
  "language_info": {
   "codemirror_mode": {
    "name": "ipython",
    "version": 3
   },
   "file_extension": ".py",
   "mimetype": "text/x-python",
   "name": "python",
   "nbconvert_exporter": "python",
   "pygments_lexer": "ipython3",
   "version": "3.7.1"
  }
 },
 "nbformat": 4,
 "nbformat_minor": 2
}
